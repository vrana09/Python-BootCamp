{
 "cells": [
  {
   "cell_type": "code",
   "execution_count": 1,
   "id": "8a69a055",
   "metadata": {},
   "outputs": [],
   "source": [
    "def say_hello():\n",
    "    print(\"Hello\")"
   ]
  },
  {
   "cell_type": "code",
   "execution_count": 2,
   "id": "dedea8be",
   "metadata": {},
   "outputs": [
    {
     "name": "stdout",
     "output_type": "stream",
     "text": [
      "Hello\n"
     ]
    }
   ],
   "source": [
    "say_hello()"
   ]
  },
  {
   "cell_type": "code",
   "execution_count": 7,
   "id": "63f25937",
   "metadata": {},
   "outputs": [],
   "source": [
    "def say_hello(name = 'Viraj'):\n",
    "    print(f\"Hello,{name}!\")"
   ]
  },
  {
   "cell_type": "code",
   "execution_count": 8,
   "id": "640d4bd1",
   "metadata": {},
   "outputs": [
    {
     "name": "stdout",
     "output_type": "stream",
     "text": [
      "Hello,Gargi!\n"
     ]
    }
   ],
   "source": [
    "say_hello('Gargi')"
   ]
  },
  {
   "cell_type": "code",
   "execution_count": 9,
   "id": "64e94872",
   "metadata": {},
   "outputs": [
    {
     "name": "stdout",
     "output_type": "stream",
     "text": [
      "Hello,Viraj!\n"
     ]
    }
   ],
   "source": [
    "say_hello()"
   ]
  },
  {
   "cell_type": "code",
   "execution_count": 10,
   "id": "6fd45024",
   "metadata": {},
   "outputs": [],
   "source": [
    "def addition(n1,n2):\n",
    "    return n1+n2"
   ]
  },
  {
   "cell_type": "code",
   "execution_count": 12,
   "id": "35907b87",
   "metadata": {},
   "outputs": [
    {
     "data": {
      "text/plain": [
       "101"
      ]
     },
     "execution_count": 12,
     "metadata": {},
     "output_type": "execute_result"
    }
   ],
   "source": [
    "addition(1,100)"
   ]
  },
  {
   "cell_type": "code",
   "execution_count": 13,
   "id": "0666479e",
   "metadata": {},
   "outputs": [],
   "source": [
    "result = addition(1,100)                    # using return the output value can be stored in a variable"
   ]
  },
  {
   "cell_type": "code",
   "execution_count": 14,
   "id": "8d03503b",
   "metadata": {},
   "outputs": [
    {
     "data": {
      "text/plain": [
       "101"
      ]
     },
     "execution_count": 14,
     "metadata": {},
     "output_type": "execute_result"
    }
   ],
   "source": [
    "result\n"
   ]
  },
  {
   "cell_type": "code",
   "execution_count": 15,
   "id": "60f67af9",
   "metadata": {},
   "outputs": [],
   "source": [
    "# make a function to return a list of odd num"
   ]
  },
  {
   "cell_type": "code",
   "execution_count": 19,
   "id": "c63c09da",
   "metadata": {},
   "outputs": [],
   "source": [
    "def odd_num_list(num_list):\n",
    "    \n",
    "    odd_num = []\n",
    "    \n",
    "    for num in num_list:\n",
    "        if (num%2) == 1:\n",
    "            odd_num.append(num)\n",
    "        \n",
    "        else:\n",
    "            pass\n",
    "    \n",
    "    return odd_num"
   ]
  },
  {
   "cell_type": "code",
   "execution_count": 20,
   "id": "9fe54209",
   "metadata": {},
   "outputs": [
    {
     "data": {
      "text/plain": [
       "[1, 3, 5, 7]"
      ]
     },
     "execution_count": 20,
     "metadata": {},
     "output_type": "execute_result"
    }
   ],
   "source": [
    "odd_num_list([1,2,3,4,5,6,7])"
   ]
  },
  {
   "cell_type": "code",
   "execution_count": 58,
   "id": "a7ab6fb7",
   "metadata": {},
   "outputs": [],
   "source": [
    "work_hours = [('Abby',100),('Billy',4000),('Cassie',800)]"
   ]
  },
  {
   "cell_type": "code",
   "execution_count": 59,
   "id": "ace778c2",
   "metadata": {},
   "outputs": [],
   "source": [
    "def name_max_hours(work_hours):\n",
    "    \n",
    "    current_max = 0\n",
    "    employee_of_the_month = ''\n",
    "    for name,hours in work_hours:\n",
    "        \n",
    "        if current_max < hours:\n",
    "            \n",
    "            current_max = hours\n",
    "            employee_of_the_month = name\n",
    "        \n",
    "        else:\n",
    "            pass\n",
    "        \n",
    "    return (employee_of_the_month,current_max)"
   ]
  },
  {
   "cell_type": "code",
   "execution_count": 60,
   "id": "a676bc0f",
   "metadata": {},
   "outputs": [
    {
     "data": {
      "text/plain": [
       "('Billy', 4000)"
      ]
     },
     "execution_count": 60,
     "metadata": {},
     "output_type": "execute_result"
    }
   ],
   "source": [
    "name_max_hours(work_hours)"
   ]
  },
  {
   "cell_type": "code",
   "execution_count": 61,
   "id": "f734906f",
   "metadata": {},
   "outputs": [],
   "source": [
    "# *args and **kwargs"
   ]
  },
  {
   "cell_type": "code",
   "execution_count": 80,
   "id": "ca78f421",
   "metadata": {},
   "outputs": [],
   "source": [
    "def myfunc(*args):                            # as many parameters as you want args treated as tuples\n",
    "    print(args)\n",
    "    return sum(args)*0.05\n",
    "    "
   ]
  },
  {
   "cell_type": "code",
   "execution_count": 82,
   "id": "fb2d35fe",
   "metadata": {},
   "outputs": [
    {
     "name": "stdout",
     "output_type": "stream",
     "text": [
      "(1, 2)\n"
     ]
    },
    {
     "data": {
      "text/plain": [
       "0.15000000000000002"
      ]
     },
     "execution_count": 82,
     "metadata": {},
     "output_type": "execute_result"
    }
   ],
   "source": [
    "myfunc(1,2)"
   ]
  },
  {
   "cell_type": "code",
   "execution_count": 83,
   "id": "34c55253",
   "metadata": {},
   "outputs": [
    {
     "name": "stdout",
     "output_type": "stream",
     "text": [
      "(100, 100, 100, 100)\n"
     ]
    },
    {
     "data": {
      "text/plain": [
       "20.0"
      ]
     },
     "execution_count": 83,
     "metadata": {},
     "output_type": "execute_result"
    }
   ],
   "source": [
    "myfunc(100,100,100,100)"
   ]
  },
  {
   "cell_type": "code",
   "execution_count": 65,
   "id": "fa07ec92",
   "metadata": {},
   "outputs": [],
   "source": [
    "def myfunc(**kwargs):\n",
    "    if 'fruit' in kwargs:\n",
    "        print(\"The fruit is {}\".format(kwargs['fruit']))\n",
    "    elif 'veggie' in kwargs:\n",
    "        print(\"The veggie is {}\".format(kwargs['veggie']))\n",
    "    else:\n",
    "        print(\"Opps!\")"
   ]
  },
  {
   "cell_type": "code",
   "execution_count": 71,
   "id": "efa92742",
   "metadata": {},
   "outputs": [
    {
     "name": "stdout",
     "output_type": "stream",
     "text": [
      "Opps!\n"
     ]
    }
   ],
   "source": [
    "myfunc(car = 'mazda')"
   ]
  },
  {
   "cell_type": "code",
   "execution_count": 69,
   "id": "f0fd7723",
   "metadata": {},
   "outputs": [
    {
     "name": "stdout",
     "output_type": "stream",
     "text": [
      "Hey, My name is Gargi\n"
     ]
    }
   ],
   "source": [
    "print(\"Hey, My name is {}\".format('Gargi'))"
   ]
  },
  {
   "cell_type": "code",
   "execution_count": 132,
   "id": "f67a8ce9",
   "metadata": {},
   "outputs": [],
   "source": [
    "def myfunc(st):\n",
    "    \n",
    "    st1 = []\n",
    "    \n",
    "    for index in range(len(st)):\n",
    "        if index % 2 == 0:\n",
    "            \n",
    "            st1.append(st[index].lower())\n",
    "            \n",
    "        else:\n",
    "            \n",
    "            st1.append(st[index].upper())\n",
    "    \n",
    "    \n",
    "    \n",
    "    \n",
    "    \n",
    "    \n",
    "    return ''.join[st1]"
   ]
  },
  {
   "cell_type": "code",
   "execution_count": 133,
   "id": "9a702688",
   "metadata": {},
   "outputs": [
    {
     "ename": "TypeError",
     "evalue": "'builtin_function_or_method' object is not subscriptable",
     "output_type": "error",
     "traceback": [
      "\u001b[0;31m---------------------------------------------------------------------------\u001b[0m",
      "\u001b[0;31mTypeError\u001b[0m                                 Traceback (most recent call last)",
      "Input \u001b[0;32mIn [133]\u001b[0m, in \u001b[0;36m<cell line: 1>\u001b[0;34m()\u001b[0m\n\u001b[0;32m----> 1\u001b[0m \u001b[43mmyfunc\u001b[49m\u001b[43m(\u001b[49m\u001b[38;5;124;43m'\u001b[39;49m\u001b[38;5;124;43mviraj\u001b[39;49m\u001b[38;5;124;43m'\u001b[39;49m\u001b[43m)\u001b[49m\n",
      "Input \u001b[0;32mIn [132]\u001b[0m, in \u001b[0;36mmyfunc\u001b[0;34m(st)\u001b[0m\n\u001b[1;32m     10\u001b[0m     \u001b[38;5;28;01melse\u001b[39;00m:\n\u001b[1;32m     12\u001b[0m         st1\u001b[38;5;241m.\u001b[39mappend(st[index]\u001b[38;5;241m.\u001b[39mupper())\n\u001b[0;32m---> 19\u001b[0m \u001b[38;5;28;01mreturn\u001b[39;00m \u001b[38;5;124;43m'\u001b[39;49m\u001b[38;5;124;43m'\u001b[39;49m\u001b[38;5;241;43m.\u001b[39;49m\u001b[43mjoin\u001b[49m\u001b[43m[\u001b[49m\u001b[43mst1\u001b[49m\u001b[43m]\u001b[49m\n",
      "\u001b[0;31mTypeError\u001b[0m: 'builtin_function_or_method' object is not subscriptable"
     ]
    }
   ],
   "source": [
    "myfunc('viraj')"
   ]
  },
  {
   "cell_type": "code",
   "execution_count": 123,
   "id": "f6dc3ad5",
   "metadata": {},
   "outputs": [],
   "source": [
    "def myfunc(x):\n",
    "    out = []\n",
    "    for i in range(len(x)):\n",
    "        if i%2==0:\n",
    "            out.append(x[i].lower())\n",
    "        else:\n",
    "            out.append(x[i].upper())\n",
    "    return ''.join(out)"
   ]
  },
  {
   "cell_type": "code",
   "execution_count": 124,
   "id": "fb9e3ff1",
   "metadata": {},
   "outputs": [
    {
     "data": {
      "text/plain": [
       "'vIrAj'"
      ]
     },
     "execution_count": 124,
     "metadata": {},
     "output_type": "execute_result"
    }
   ],
   "source": [
    "myfunc('Viraj')"
   ]
  },
  {
   "cell_type": "code",
   "execution_count": 148,
   "id": "8ecdf1f4",
   "metadata": {},
   "outputs": [],
   "source": [
    "text = 'lsvdhv lgvvm'"
   ]
  },
  {
   "cell_type": "code",
   "execution_count": 149,
   "id": "3d953569",
   "metadata": {},
   "outputs": [],
   "source": [
    "w1,w2 = text.split()"
   ]
  },
  {
   "cell_type": "code",
   "execution_count": 151,
   "id": "02a90c36",
   "metadata": {},
   "outputs": [
    {
     "name": "stdout",
     "output_type": "stream",
     "text": [
      "lsvdhv\n"
     ]
    }
   ],
   "source": [
    "print(w1)"
   ]
  },
  {
   "cell_type": "code",
   "execution_count": 153,
   "id": "806cbf4e",
   "metadata": {},
   "outputs": [
    {
     "name": "stdout",
     "output_type": "stream",
     "text": [
      "lgvvm\n"
     ]
    }
   ],
   "source": [
    "print(w2)"
   ]
  },
  {
   "cell_type": "code",
   "execution_count": 154,
   "id": "e5c07c83",
   "metadata": {},
   "outputs": [
    {
     "name": "stdout",
     "output_type": "stream",
     "text": [
      "l\n"
     ]
    }
   ],
   "source": [
    "for index in w1[0]:\n",
    "    print(index)"
   ]
  },
  {
   "cell_type": "code",
   "execution_count": 155,
   "id": "9147b7fd",
   "metadata": {},
   "outputs": [
    {
     "name": "stdout",
     "output_type": "stream",
     "text": [
      "True\n"
     ]
    }
   ],
   "source": [
    "if w1[0]==w2[0]:\n",
    "    print(\"True\")\n",
    "else:\n",
    "    pass"
   ]
  },
  {
   "cell_type": "code",
   "execution_count": 159,
   "id": "a0fdce09",
   "metadata": {},
   "outputs": [
    {
     "name": "stdout",
     "output_type": "stream",
     "text": [
      "d\n"
     ]
    }
   ],
   "source": [
    "name = 'macdonald'\n",
    "\n",
    "print(name[3])"
   ]
  },
  {
   "cell_type": "code",
   "execution_count": 160,
   "id": "d09e45b0",
   "metadata": {},
   "outputs": [
    {
     "name": "stdout",
     "output_type": "stream",
     "text": [
      "['macdonald']\n"
     ]
    }
   ],
   "source": [
    "list1 = name.split()\n",
    "print(list1)"
   ]
  },
  {
   "cell_type": "code",
   "execution_count": 179,
   "id": "bc8ca33d",
   "metadata": {},
   "outputs": [
    {
     "data": {
      "text/plain": [
       "'MAC'"
      ]
     },
     "execution_count": 179,
     "metadata": {},
     "output_type": "execute_result"
    }
   ],
   "source": [
    "name = 'mac'\n",
    "\n",
    "name.upper()"
   ]
  },
  {
   "cell_type": "code",
   "execution_count": 178,
   "id": "a822d0f6",
   "metadata": {},
   "outputs": [
    {
     "data": {
      "text/plain": [
       "str"
      ]
     },
     "execution_count": 178,
     "metadata": {},
     "output_type": "execute_result"
    }
   ],
   "source": [
    "type(name.upper())"
   ]
  },
  {
   "cell_type": "code",
   "execution_count": 4,
   "id": "6dc7f2e9",
   "metadata": {},
   "outputs": [
    {
     "name": "stdout",
     "output_type": "stream",
     "text": [
      "['I', 'am', 'home']\n",
      "3\n",
      "0\n",
      "['home']\n",
      "1\n",
      "['home', 'am']\n",
      "2\n",
      "['home', 'am', 'I']\n"
     ]
    }
   ],
   "source": [
    "text= 'I am home'\n",
    "\n",
    "list1=text.split()\n",
    "\n",
    "print(list1)\n",
    "\n",
    "new_text=[]\n",
    "\n",
    "length = len(list1)\n",
    "\n",
    "\n",
    "print(length)\n",
    "\n",
    "for index in range(length):\n",
    "    \n",
    "    print(index)\n",
    "    new_text.append(list1[length-index-1])\n",
    "    print(new_text)\n",
    "\n",
    "    \n",
    "    "
   ]
  },
  {
   "cell_type": "code",
   "execution_count": 23,
   "id": "e557c91a",
   "metadata": {},
   "outputs": [
    {
     "data": {
      "text/plain": [
       "6"
      ]
     },
     "execution_count": 23,
     "metadata": {},
     "output_type": "execute_result"
    }
   ],
   "source": [
    "sum([2,3,1])"
   ]
  },
  {
   "cell_type": "code",
   "execution_count": 24,
   "id": "ac74a9f4",
   "metadata": {},
   "outputs": [],
   "source": [
    "arr = [2,3,1,6,7,9,1]"
   ]
  },
  {
   "cell_type": "code",
   "execution_count": 25,
   "id": "54d17e56",
   "metadata": {},
   "outputs": [
    {
     "data": {
      "text/plain": [
       "6"
      ]
     },
     "execution_count": 25,
     "metadata": {},
     "output_type": "execute_result"
    }
   ],
   "source": [
    "sum(arr)"
   ]
  },
  {
   "cell_type": "code",
   "execution_count": 30,
   "id": "3151879c",
   "metadata": {},
   "outputs": [
    {
     "data": {
      "text/plain": [
       "6"
      ]
     },
     "execution_count": 30,
     "metadata": {},
     "output_type": "execute_result"
    }
   ],
   "source": [
    "sum(arr[0:3])"
   ]
  },
  {
   "cell_type": "code",
   "execution_count": 37,
   "id": "ed3deff2",
   "metadata": {
    "scrolled": true
   },
   "outputs": [
    {
     "name": "stdout",
     "output_type": "stream",
     "text": [
      "6\n"
     ]
    }
   ],
   "source": [
    "for i in [2,3,1,6,7,9,1]:\n",
    "    if i == 6 :\n",
    "        print(sum(arr[0:3]))\n",
    "    else:\n",
    "        pass"
   ]
  },
  {
   "cell_type": "code",
   "execution_count": 20,
   "id": "1ded78d6",
   "metadata": {},
   "outputs": [],
   "source": [
    "spy_games = [1,0,2,0,5,0,6,7,0,8]"
   ]
  },
  {
   "cell_type": "code",
   "execution_count": 21,
   "id": "0bd1b91e",
   "metadata": {},
   "outputs": [],
   "source": [
    "new_sg = spy_games[::-1]"
   ]
  },
  {
   "cell_type": "code",
   "execution_count": 22,
   "id": "de3fccb6",
   "metadata": {},
   "outputs": [
    {
     "data": {
      "text/plain": [
       "[8, 0, 7, 6, 0, 5, 0, 2, 0, 1]"
      ]
     },
     "execution_count": 22,
     "metadata": {},
     "output_type": "execute_result"
    }
   ],
   "source": [
    "new_sg"
   ]
  },
  {
   "cell_type": "code",
   "execution_count": 25,
   "id": "59d04224",
   "metadata": {},
   "outputs": [
    {
     "name": "stdout",
     "output_type": "stream",
     "text": [
      "2\n",
      "4\n",
      "1\n",
      "4\n",
      "2\n"
     ]
    }
   ],
   "source": [
    "count = 0 \n",
    "for index in range(len(new_sg)-1):\n",
    "    if new_sg[index] == 7:\n",
    "        print(index)\n",
    "        break\n",
    "for index_0 in range(index,len(new_sg)):\n",
    "    if new_sg[index_0] == 0:\n",
    "        print(index_0)\n",
    "        count += 1\n",
    "        print(count)\n",
    "        if count == 1:\n",
    "            for index_1 in range(index_0,len(new_sg)):\n",
    "                if new_sg[index_1] == 0:\n",
    "                    print(index_1)\n",
    "                    count += 1\n",
    "                    print(count)\n",
    "                    break\n",
    "        break"
   ]
  },
  {
   "cell_type": "code",
   "execution_count": null,
   "id": "4887b447",
   "metadata": {},
   "outputs": [],
   "source": []
  },
  {
   "cell_type": "code",
   "execution_count": 27,
   "id": "c09e2e1b",
   "metadata": {},
   "outputs": [],
   "source": [
    "def findNumber(list1):\n",
    "    count = 0\n",
    "    for num in list1:\n",
    "        if num == 0 and count < 2:\n",
    "            count+= 1\n",
    "        elif count == 2 and num ==7:\n",
    "            return True\n",
    "    return False"
   ]
  },
  {
   "cell_type": "code",
   "execution_count": 30,
   "id": "62dc3552",
   "metadata": {},
   "outputs": [
    {
     "data": {
      "text/plain": [
       "False"
      ]
     },
     "execution_count": 30,
     "metadata": {},
     "output_type": "execute_result"
    }
   ],
   "source": [
    "findNumber([1,2,0,3,0,4,0,6,0,8,])"
   ]
  },
  {
   "cell_type": "code",
   "execution_count": 81,
   "id": "06015cfe",
   "metadata": {},
   "outputs": [],
   "source": [
    "def count_prime(num):\n",
    "    \n",
    "    count = 0\n",
    "    \n",
    "    for i in range(0,num):\n",
    "        if i == 1 or i == 0:\n",
    "            continue\n",
    "        elif i%2 != 0 or i%3 != 0 or i%5 != 0:\n",
    "            continue\n",
    "        else:\n",
    "            count += 1\n",
    "    \n",
    "    return count"
   ]
  },
  {
   "cell_type": "code",
   "execution_count": 82,
   "id": "09fa37ed",
   "metadata": {},
   "outputs": [
    {
     "data": {
      "text/plain": [
       "3"
      ]
     },
     "execution_count": 82,
     "metadata": {},
     "output_type": "execute_result"
    }
   ],
   "source": [
    "count_prime(100)"
   ]
  },
  {
   "cell_type": "code",
   "execution_count": 60,
   "id": "9541d714",
   "metadata": {},
   "outputs": [
    {
     "data": {
      "text/plain": [
       "1"
      ]
     },
     "execution_count": 60,
     "metadata": {},
     "output_type": "execute_result"
    }
   ],
   "source": [
    "89%2"
   ]
  },
  {
   "cell_type": "code",
   "execution_count": 61,
   "id": "4be9a756",
   "metadata": {},
   "outputs": [
    {
     "data": {
      "text/plain": [
       "2"
      ]
     },
     "execution_count": 61,
     "metadata": {},
     "output_type": "execute_result"
    }
   ],
   "source": [
    "89%3"
   ]
  },
  {
   "cell_type": "code",
   "execution_count": 62,
   "id": "4dca360d",
   "metadata": {},
   "outputs": [
    {
     "data": {
      "text/plain": [
       "4"
      ]
     },
     "execution_count": 62,
     "metadata": {},
     "output_type": "execute_result"
    }
   ],
   "source": [
    "89%5"
   ]
  },
  {
   "cell_type": "code",
   "execution_count": 63,
   "id": "f56b5cc4",
   "metadata": {},
   "outputs": [
    {
     "data": {
      "text/plain": [
       "5"
      ]
     },
     "execution_count": 63,
     "metadata": {},
     "output_type": "execute_result"
    }
   ],
   "source": [
    "89%7"
   ]
  },
  {
   "cell_type": "code",
   "execution_count": 1,
   "id": "a1bbd560",
   "metadata": {},
   "outputs": [],
   "source": [
    "def square(num):\n",
    "    return num**2"
   ]
  },
  {
   "cell_type": "code",
   "execution_count": 2,
   "id": "ad0ff070",
   "metadata": {},
   "outputs": [],
   "source": [
    "my_num = [1,2,3,4,5]"
   ]
  },
  {
   "cell_type": "code",
   "execution_count": 4,
   "id": "af027a05",
   "metadata": {},
   "outputs": [
    {
     "data": {
      "text/plain": [
       "[1, 4, 9, 16, 25]"
      ]
     },
     "execution_count": 4,
     "metadata": {},
     "output_type": "execute_result"
    }
   ],
   "source": [
    "list(map(square,my_num))"
   ]
  },
  {
   "cell_type": "code",
   "execution_count": 5,
   "id": "8842605c",
   "metadata": {},
   "outputs": [],
   "source": [
    "def check_even(num):\n",
    "    return num%2 == 0"
   ]
  },
  {
   "cell_type": "code",
   "execution_count": 6,
   "id": "c3b0db7b",
   "metadata": {},
   "outputs": [
    {
     "data": {
      "text/plain": [
       "[2, 4]"
      ]
     },
     "execution_count": 6,
     "metadata": {},
     "output_type": "execute_result"
    }
   ],
   "source": [
    "list(filter(check_even,my_num))"
   ]
  },
  {
   "cell_type": "code",
   "execution_count": 7,
   "id": "0ff74444",
   "metadata": {},
   "outputs": [],
   "source": [
    "square1 = lambda number: number**2"
   ]
  },
  {
   "cell_type": "code",
   "execution_count": 8,
   "id": "1291dd09",
   "metadata": {},
   "outputs": [
    {
     "data": {
      "text/plain": [
       "25"
      ]
     },
     "execution_count": 8,
     "metadata": {},
     "output_type": "execute_result"
    }
   ],
   "source": [
    "square1(5)"
   ]
  },
  {
   "cell_type": "code",
   "execution_count": 44,
   "id": "96784e29",
   "metadata": {},
   "outputs": [],
   "source": [
    "name = \"Viraj Rana\""
   ]
  },
  {
   "cell_type": "code",
   "execution_count": 52,
   "id": "d2923831",
   "metadata": {},
   "outputs": [
    {
     "name": "stdout",
     "output_type": "stream",
     "text": [
      "V\n",
      "R\n",
      "2\n",
      "7\n"
     ]
    }
   ],
   "source": [
    "count_upper = 0\n",
    "count_lower = 0\n",
    "\n",
    "for char in name:\n",
    "    if char.isupper():\n",
    "        count_upper += 1\n",
    "        \n",
    "    elif char.islower():\n",
    "        count_lower += 1\n",
    "        \n",
    "    else:\n",
    "        pass\n",
    "    \n",
    "print(count_upper)\n",
    "print(count_lower)"
   ]
  },
  {
   "cell_type": "code",
   "execution_count": 22,
   "id": "edc14ae8",
   "metadata": {},
   "outputs": [],
   "source": [
    "list_123 = [1,1,1,2,2,3,4,4,4,4,5,5]"
   ]
  },
  {
   "cell_type": "code",
   "execution_count": 27,
   "id": "fc96c570",
   "metadata": {},
   "outputs": [
    {
     "name": "stdout",
     "output_type": "stream",
     "text": [
      "[1, 2, 3, 4, 5]\n"
     ]
    }
   ],
   "source": [
    "new_n = list_123[0]\n",
    "unique_list=[list_123[0]]\n",
    "\n",
    "for n in list_123:\n",
    "    if new_n != n:\n",
    "        new_n = n\n",
    "        unique_list.append(n)\n",
    "       \n",
    "    elif new_n == n:\n",
    "        pass\n",
    "    \n",
    "print(unique_list)"
   ]
  },
  {
   "cell_type": "code",
   "execution_count": 28,
   "id": "c0374b80",
   "metadata": {},
   "outputs": [],
   "source": [
    "numbers=[1,2,3,4]"
   ]
  },
  {
   "cell_type": "code",
   "execution_count": 31,
   "id": "8d78d0d6",
   "metadata": {},
   "outputs": [
    {
     "name": "stdout",
     "output_type": "stream",
     "text": [
      "24\n"
     ]
    }
   ],
   "source": [
    "n_1 = 1\n",
    "for n in numbers:\n",
    "    n_1 = n_1 * n \n",
    "print(n_1)"
   ]
  },
  {
   "cell_type": "code",
   "execution_count": 47,
   "id": "0dcf4a8a",
   "metadata": {},
   "outputs": [],
   "source": [
    "s = \"madam and Sir\""
   ]
  },
  {
   "cell_type": "code",
   "execution_count": 48,
   "id": "0a1a8bb9",
   "metadata": {},
   "outputs": [],
   "source": [
    "s_rev = s[::-1]\n",
    "if s == s_rev:\n",
    "    print(s_rev)\n",
    "    "
   ]
  },
  {
   "cell_type": "code",
   "execution_count": 49,
   "id": "d279e957",
   "metadata": {},
   "outputs": [
    {
     "name": "stdout",
     "output_type": "stream",
     "text": [
      "madamandSir\n"
     ]
    }
   ],
   "source": [
    "s_new = s.replace(\" \", \"\")\n",
    "print(s_new)"
   ]
  },
  {
   "cell_type": "code",
   "execution_count": 77,
   "id": "aaed61f3",
   "metadata": {},
   "outputs": [
    {
     "name": "stdout",
     "output_type": "stream",
     "text": [
      "{'m', 'i', 'S', 'd', 'a', 'r', 'n'}\n",
      "{'m', 'n', 'S', 'd', 'a', 'r', 'i'}\n",
      "True\n"
     ]
    }
   ],
   "source": [
    "import string\n",
    "alpha = set(string.ascii_letters)\n",
    "alpha1 = ['m','i','d','a','r','n','S']\n",
    "s_new1 = set(s_new)\n",
    "print(s_new1)\n",
    "alpha_set = set(alpha1)\n",
    "print(alpha_set)\n",
    "what = s_new1.difference(alpha_set)\n",
    "if what == set():\n",
    "    print(True)"
   ]
  },
  {
   "cell_type": "code",
   "execution_count": 78,
   "id": "d85dc0af",
   "metadata": {},
   "outputs": [],
   "source": [
    "ttt = {1: ' ', 2: ' ', 3:' '}"
   ]
  },
  {
   "cell_type": "code",
   "execution_count": 79,
   "id": "7d459261",
   "metadata": {},
   "outputs": [],
   "source": [
    "ttt[1]= 'x'"
   ]
  },
  {
   "cell_type": "code",
   "execution_count": 80,
   "id": "907e00ee",
   "metadata": {},
   "outputs": [
    {
     "name": "stdout",
     "output_type": "stream",
     "text": [
      "{1: 'x', 2: ' ', 3: ' '}\n"
     ]
    }
   ],
   "source": [
    "print(ttt)"
   ]
  },
  {
   "cell_type": "code",
   "execution_count": 100,
   "id": "323ce8fc",
   "metadata": {},
   "outputs": [],
   "source": [
    "t_row1 = [' ', ' ', ' ']\n",
    "t_row2 = [' ', ' ', ' ']\n",
    "t_row3 = [' ', ' ', ' ']"
   ]
  },
  {
   "cell_type": "code",
   "execution_count": 102,
   "id": "a35d7c30",
   "metadata": {},
   "outputs": [],
   "source": [
    "ttt = [t_row1, \n",
    "       t_row2, \n",
    "       t_row3]"
   ]
  },
  {
   "cell_type": "code",
   "execution_count": 103,
   "id": "4a0e5ee8",
   "metadata": {},
   "outputs": [
    {
     "name": "stdout",
     "output_type": "stream",
     "text": [
      "[[' ', ' ', ' '], [' ', ' ', ' '], [' ', ' ', ' ']]\n"
     ]
    }
   ],
   "source": [
    "print(ttt)"
   ]
  },
  {
   "cell_type": "code",
   "execution_count": 88,
   "id": "758c3324",
   "metadata": {},
   "outputs": [
    {
     "name": "stdout",
     "output_type": "stream",
     "text": [
      "Choose your position on the game board from 1 to 9: 5\n"
     ]
    }
   ],
   "source": [
    "position_u1 = int(input(\"Choose your position on the game board from 1 to 9: \"))"
   ]
  },
  {
   "cell_type": "code",
   "execution_count": 89,
   "id": "c282930a",
   "metadata": {},
   "outputs": [
    {
     "name": "stdout",
     "output_type": "stream",
     "text": [
      "5\n"
     ]
    }
   ],
   "source": [
    "print(position_u1)"
   ]
  },
  {
   "cell_type": "code",
   "execution_count": 90,
   "id": "4d8b8eae",
   "metadata": {},
   "outputs": [
    {
     "name": "stdout",
     "output_type": "stream",
     "text": [
      "choose one of 'x' or 'o': x\n"
     ]
    }
   ],
   "source": [
    "u1 = input(\"choose one of 'x' or 'o': \")"
   ]
  },
  {
   "cell_type": "code",
   "execution_count": 91,
   "id": "79f4462a",
   "metadata": {},
   "outputs": [
    {
     "name": "stdout",
     "output_type": "stream",
     "text": [
      "x\n"
     ]
    }
   ],
   "source": [
    "print(u1)"
   ]
  },
  {
   "cell_type": "code",
   "execution_count": 92,
   "id": "7f067719",
   "metadata": {},
   "outputs": [],
   "source": [
    "ttt[position_u1] = u1"
   ]
  },
  {
   "cell_type": "code",
   "execution_count": 93,
   "id": "b5f9f74b",
   "metadata": {},
   "outputs": [
    {
     "name": "stdout",
     "output_type": "stream",
     "text": [
      "{1: {1: ' ', 2: ' ', 3: ' '}, 2: {4: ' ', 5: ' ', 6: ' '}, 3: {7: ' ', 8: ' ', 9: ' '}, 5: 'x'}\n"
     ]
    }
   ],
   "source": [
    "print(ttt)"
   ]
  },
  {
   "cell_type": "code",
   "execution_count": 117,
   "id": "4afa9f43",
   "metadata": {},
   "outputs": [
    {
     "name": "stdout",
     "output_type": "stream",
     "text": [
      "o wins\n",
      "[['x', 'o', 'x'], ['o', 'o', 'o']]\n"
     ]
    }
   ],
   "source": [
    "row1 = ['x','o','x']\n",
    "row2 = ['o', 'o', 'o']\n",
    "\n",
    "row = [row1,row2]\n",
    "\n",
    "element_x = 0\n",
    "element_o = 0\n",
    "\n",
    "#for n_rows in row:\n",
    "for element in row2:\n",
    "    if element == 'x':\n",
    "        element_x += 1\n",
    "        if element_x == 3:\n",
    "            print(\"x wins\")\n",
    "    elif element == 'o':\n",
    "        element_o += 1\n",
    "        if element_o == 3:\n",
    "            print(\"o wins\")\n",
    "            print(row)"
   ]
  },
  {
   "cell_type": "code",
   "execution_count": 120,
   "id": "b39b3dfe",
   "metadata": {},
   "outputs": [
    {
     "name": "stdout",
     "output_type": "stream",
     "text": [
      "x\n",
      "o\n",
      "x\n"
     ]
    }
   ],
   "source": [
    "for n in row[0]:\n",
    "    print(n)"
   ]
  },
  {
   "cell_type": "code",
   "execution_count": null,
   "id": "4c9b8c72",
   "metadata": {},
   "outputs": [],
   "source": []
  }
 ],
 "metadata": {
  "kernelspec": {
   "display_name": "Python 3 (ipykernel)",
   "language": "python",
   "name": "python3"
  },
  "language_info": {
   "codemirror_mode": {
    "name": "ipython",
    "version": 3
   },
   "file_extension": ".py",
   "mimetype": "text/x-python",
   "name": "python",
   "nbconvert_exporter": "python",
   "pygments_lexer": "ipython3",
   "version": "3.9.12"
  }
 },
 "nbformat": 4,
 "nbformat_minor": 5
}
