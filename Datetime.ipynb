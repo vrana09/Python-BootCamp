{
 "cells": [
  {
   "cell_type": "code",
   "execution_count": 1,
   "id": "84b38062",
   "metadata": {},
   "outputs": [],
   "source": [
    "import datetime"
   ]
  },
  {
   "cell_type": "code",
   "execution_count": 4,
   "id": "14e8bc40",
   "metadata": {},
   "outputs": [],
   "source": [
    "my_time = datetime.time(6,20)"
   ]
  },
  {
   "cell_type": "code",
   "execution_count": 5,
   "id": "ba5527d2",
   "metadata": {},
   "outputs": [
    {
     "data": {
      "text/plain": [
       "20"
      ]
     },
     "execution_count": 5,
     "metadata": {},
     "output_type": "execute_result"
    }
   ],
   "source": [
    "my_time.minute"
   ]
  },
  {
   "cell_type": "code",
   "execution_count": 6,
   "id": "b9a88a1c",
   "metadata": {},
   "outputs": [
    {
     "data": {
      "text/plain": [
       "6"
      ]
     },
     "execution_count": 6,
     "metadata": {},
     "output_type": "execute_result"
    }
   ],
   "source": [
    "my_time.hour"
   ]
  },
  {
   "cell_type": "code",
   "execution_count": 7,
   "id": "d775be47",
   "metadata": {},
   "outputs": [
    {
     "name": "stdout",
     "output_type": "stream",
     "text": [
      "06:20:00\n"
     ]
    }
   ],
   "source": [
    "print(my_time)"
   ]
  },
  {
   "cell_type": "code",
   "execution_count": 8,
   "id": "d102886a",
   "metadata": {},
   "outputs": [],
   "source": [
    " today = datetime.date.today()"
   ]
  },
  {
   "cell_type": "code",
   "execution_count": 9,
   "id": "17eb1f8e",
   "metadata": {},
   "outputs": [
    {
     "name": "stdout",
     "output_type": "stream",
     "text": [
      "2022-12-11\n"
     ]
    }
   ],
   "source": [
    "print(today)"
   ]
  },
  {
   "cell_type": "code",
   "execution_count": 10,
   "id": "69b68251",
   "metadata": {},
   "outputs": [
    {
     "data": {
      "text/plain": [
       "'Sun Dec 11 00:00:00 2022'"
      ]
     },
     "execution_count": 10,
     "metadata": {},
     "output_type": "execute_result"
    }
   ],
   "source": [
    "today.ctime()"
   ]
  },
  {
   "cell_type": "code",
   "execution_count": 11,
   "id": "b401b4e0",
   "metadata": {},
   "outputs": [],
   "source": [
    "from datetime import datetime"
   ]
  },
  {
   "cell_type": "code",
   "execution_count": 14,
   "id": "e76c01fa",
   "metadata": {},
   "outputs": [
    {
     "name": "stdout",
     "output_type": "stream",
     "text": [
      "2022-09-05 07:01:00\n"
     ]
    }
   ],
   "source": [
    "print(datetime(2022,9,5,7,1))"
   ]
  },
  {
   "cell_type": "markdown",
   "id": "ad1ba715",
   "metadata": {},
   "source": [
    "***Arithmetic***"
   ]
  },
  {
   "cell_type": "code",
   "execution_count": 15,
   "id": "20bff3c7",
   "metadata": {},
   "outputs": [],
   "source": [
    "from datetime import date"
   ]
  },
  {
   "cell_type": "code",
   "execution_count": 25,
   "id": "4fe5dd39",
   "metadata": {},
   "outputs": [],
   "source": [
    "date1 = date(1997,9,5)"
   ]
  },
  {
   "cell_type": "code",
   "execution_count": 17,
   "id": "33b60a7a",
   "metadata": {},
   "outputs": [],
   "source": [
    "date2 = date(2022,12,11)"
   ]
  },
  {
   "cell_type": "code",
   "execution_count": 20,
   "id": "9930e04d",
   "metadata": {},
   "outputs": [],
   "source": [
    "result = date2 - date1"
   ]
  },
  {
   "cell_type": "code",
   "execution_count": 21,
   "id": "9cdd418a",
   "metadata": {},
   "outputs": [
    {
     "data": {
      "text/plain": [
       "9228"
      ]
     },
     "execution_count": 21,
     "metadata": {},
     "output_type": "execute_result"
    }
   ],
   "source": [
    "result.days"
   ]
  },
  {
   "cell_type": "code",
   "execution_count": 26,
   "id": "c8e2b36f",
   "metadata": {},
   "outputs": [],
   "source": [
    "datetime1 = datetime(2022,12,11,6,0)"
   ]
  },
  {
   "cell_type": "code",
   "execution_count": 27,
   "id": "d9d1596c",
   "metadata": {},
   "outputs": [],
   "source": [
    "datetime2 = datetime(2022,12,11,7,13,2)"
   ]
  },
  {
   "cell_type": "code",
   "execution_count": 28,
   "id": "d3d80670",
   "metadata": {},
   "outputs": [],
   "source": [
    "result1 = datetime2 - datetime1"
   ]
  },
  {
   "cell_type": "code",
   "execution_count": 29,
   "id": "0e8a75e3",
   "metadata": {},
   "outputs": [
    {
     "name": "stdout",
     "output_type": "stream",
     "text": [
      "1:13:02\n"
     ]
    }
   ],
   "source": [
    "print(result1)"
   ]
  },
  {
   "cell_type": "code",
   "execution_count": 30,
   "id": "9ee574ee",
   "metadata": {},
   "outputs": [
    {
     "data": {
      "text/plain": [
       "4382.0"
      ]
     },
     "execution_count": 30,
     "metadata": {},
     "output_type": "execute_result"
    }
   ],
   "source": [
    "result1.total_seconds()"
   ]
  },
  {
   "cell_type": "code",
   "execution_count": null,
   "id": "a92011cd",
   "metadata": {},
   "outputs": [],
   "source": []
  },
  {
   "cell_type": "code",
   "execution_count": null,
   "id": "a139f1c7",
   "metadata": {},
   "outputs": [],
   "source": []
  }
 ],
 "metadata": {
  "kernelspec": {
   "display_name": "Python 3 (ipykernel)",
   "language": "python",
   "name": "python3"
  },
  "language_info": {
   "codemirror_mode": {
    "name": "ipython",
    "version": 3
   },
   "file_extension": ".py",
   "mimetype": "text/x-python",
   "name": "python",
   "nbconvert_exporter": "python",
   "pygments_lexer": "ipython3",
   "version": "3.9.12"
  }
 },
 "nbformat": 4,
 "nbformat_minor": 5
}
