{
 "cells": [
  {
   "cell_type": "code",
   "execution_count": 3,
   "id": "f5c68124",
   "metadata": {},
   "outputs": [
    {
     "data": {
      "text/plain": [
       "'/Users/shah_gargi/Desktop/Cloud-Journey/Python_course/Python_Notes/Python Modules'"
      ]
     },
     "execution_count": 3,
     "metadata": {},
     "output_type": "execute_result"
    }
   ],
   "source": [
    "pwd"
   ]
  },
  {
   "cell_type": "code",
   "execution_count": 4,
   "id": "fb53f826",
   "metadata": {},
   "outputs": [],
   "source": [
    "f = open('practice.txt','w+')\n",
    "f.write(\"Test string\")\n",
    "f.close()"
   ]
  },
  {
   "cell_type": "code",
   "execution_count": 5,
   "id": "37fa3eed",
   "metadata": {},
   "outputs": [],
   "source": [
    "import os"
   ]
  },
  {
   "cell_type": "code",
   "execution_count": 6,
   "id": "fa9d4d90",
   "metadata": {},
   "outputs": [
    {
     "data": {
      "text/plain": [
       "'/Users/shah_gargi/Desktop/Cloud-Journey/Python_course/Python_Notes/Python Modules'"
      ]
     },
     "execution_count": 6,
     "metadata": {},
     "output_type": "execute_result"
    }
   ],
   "source": [
    "os.getcwd()"
   ]
  },
  {
   "cell_type": "code",
   "execution_count": 8,
   "id": "ac0b144d",
   "metadata": {},
   "outputs": [
    {
     "data": {
      "text/plain": [
       "['practice.txt',\n",
       " '.ipynb_checkpoints',\n",
       " 'Opening and Reading files.ipynb',\n",
       " 'Collections_Module.ipynb']"
      ]
     },
     "execution_count": 8,
     "metadata": {},
     "output_type": "execute_result"
    }
   ],
   "source": [
    "os.listdir()"
   ]
  },
  {
   "cell_type": "code",
   "execution_count": 9,
   "id": "81bdc358",
   "metadata": {},
   "outputs": [],
   "source": [
    "import shutil"
   ]
  },
  {
   "cell_type": "code",
   "execution_count": 12,
   "id": "29918538",
   "metadata": {},
   "outputs": [
    {
     "data": {
      "text/plain": [
       "'/Users/shah_gargi/Desktop/Cloud-Journey/Python_course/Python_Notes/practice.txt'"
      ]
     },
     "execution_count": 12,
     "metadata": {},
     "output_type": "execute_result"
    }
   ],
   "source": [
    "shutil.move('practice.txt','/Users/shah_gargi/Desktop/Cloud-Journey/Python_course/Python_Notes')"
   ]
  },
  {
   "cell_type": "code",
   "execution_count": 14,
   "id": "193b3052",
   "metadata": {},
   "outputs": [
    {
     "data": {
      "text/plain": [
       "'/Users/shah_gargi/Desktop/Cloud-Journey/Python_course/Python_Notes/Python Modules/practice.txt'"
      ]
     },
     "execution_count": 14,
     "metadata": {},
     "output_type": "execute_result"
    }
   ],
   "source": [
    "shutil.move('/Users/shah_gargi/Desktop/Cloud-Journey/Python_course/Python_Notes/practice.txt','/Users/shah_gargi/Desktop/Cloud-Journey/Python_course/Python_Notes/Python Modules')"
   ]
  },
  {
   "cell_type": "code",
   "execution_count": 15,
   "id": "18d53917",
   "metadata": {},
   "outputs": [],
   "source": [
    "import send2trash"
   ]
  },
  {
   "cell_type": "code",
   "execution_count": 16,
   "id": "21d1977b",
   "metadata": {},
   "outputs": [
    {
     "data": {
      "text/plain": [
       "['practice.txt',\n",
       " '.ipynb_checkpoints',\n",
       " 'Opening and Reading files.ipynb',\n",
       " 'Collections_Module.ipynb']"
      ]
     },
     "execution_count": 16,
     "metadata": {},
     "output_type": "execute_result"
    }
   ],
   "source": [
    "os.listdir()"
   ]
  },
  {
   "cell_type": "code",
   "execution_count": 17,
   "id": "47d9fbfe",
   "metadata": {},
   "outputs": [],
   "source": [
    "send2trash.send2trash('practice.txt')"
   ]
  },
  {
   "cell_type": "code",
   "execution_count": 18,
   "id": "bd3572c8",
   "metadata": {},
   "outputs": [
    {
     "data": {
      "text/plain": [
       "['.ipynb_checkpoints',\n",
       " 'Opening and Reading files.ipynb',\n",
       " 'Collections_Module.ipynb']"
      ]
     },
     "execution_count": 18,
     "metadata": {},
     "output_type": "execute_result"
    }
   ],
   "source": [
    "os.listdir()"
   ]
  },
  {
   "cell_type": "code",
   "execution_count": 19,
   "id": "6d071215",
   "metadata": {},
   "outputs": [
    {
     "name": "stdout",
     "output_type": "stream",
     "text": [
      "Currently looking at /Users/shah_gargi/Desktop/Cloud-Journey/Python_course/Python_Notes/Python Modules\n",
      "\n",
      "Subfolders are:\n",
      "Subfolder is .ipynb_checkpoints\n",
      "\n",
      "Files are :\n",
      "file is Opening and Reading files.ipynb\n",
      "\n",
      "file is Collections_Module.ipynb\n",
      "\n",
      "Currently looking at /Users/shah_gargi/Desktop/Cloud-Journey/Python_course/Python_Notes/Python Modules/.ipynb_checkpoints\n",
      "\n",
      "Subfolders are:\n",
      "Files are :\n",
      "file is Collections_Module-checkpoint.ipynb\n",
      "\n",
      "file is Opening and Reading files-checkpoint.ipynb\n",
      "\n"
     ]
    }
   ],
   "source": [
    "for folder,sub_folders,files in os.walk(os.getcwd()):\n",
    "    \n",
    "    print(f\"Currently looking at {folder}\\n\")\n",
    "    print(\"Subfolders are:\")\n",
    "    \n",
    "    for sub_fold in sub_folders:\n",
    "        print(f\"Subfolder is {sub_fold}\\n\")\n",
    "    \n",
    "    print(\"Files are :\")\n",
    "    for f in files:\n",
    "        print(f\"file is {f}\\n\")\n",
    "        \n",
    "    "
   ]
  },
  {
   "cell_type": "code",
   "execution_count": null,
   "id": "7e7457b7",
   "metadata": {},
   "outputs": [],
   "source": []
  }
 ],
 "metadata": {
  "kernelspec": {
   "display_name": "Python 3 (ipykernel)",
   "language": "python",
   "name": "python3"
  },
  "language_info": {
   "codemirror_mode": {
    "name": "ipython",
    "version": 3
   },
   "file_extension": ".py",
   "mimetype": "text/x-python",
   "name": "python",
   "nbconvert_exporter": "python",
   "pygments_lexer": "ipython3",
   "version": "3.9.12"
  }
 },
 "nbformat": 4,
 "nbformat_minor": 5
}
