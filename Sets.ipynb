{
 "cells": [
  {
   "cell_type": "code",
   "execution_count": 1,
   "id": "ac9a7f26",
   "metadata": {},
   "outputs": [],
   "source": [
    "set1 = set()"
   ]
  },
  {
   "cell_type": "code",
   "execution_count": 2,
   "id": "19ad0079",
   "metadata": {},
   "outputs": [
    {
     "data": {
      "text/plain": [
       "set()"
      ]
     },
     "execution_count": 2,
     "metadata": {},
     "output_type": "execute_result"
    }
   ],
   "source": [
    "set1"
   ]
  },
  {
   "cell_type": "code",
   "execution_count": 3,
   "id": "da1fd1bc",
   "metadata": {},
   "outputs": [],
   "source": [
    "set1.add(1)"
   ]
  },
  {
   "cell_type": "code",
   "execution_count": 4,
   "id": "6b052da7",
   "metadata": {},
   "outputs": [
    {
     "data": {
      "text/plain": [
       "{1}"
      ]
     },
     "execution_count": 4,
     "metadata": {},
     "output_type": "execute_result"
    }
   ],
   "source": [
    "set1"
   ]
  },
  {
   "cell_type": "code",
   "execution_count": 5,
   "id": "001a1662",
   "metadata": {},
   "outputs": [],
   "source": [
    "set1.add('two')"
   ]
  },
  {
   "cell_type": "code",
   "execution_count": 6,
   "id": "f6d68afa",
   "metadata": {},
   "outputs": [
    {
     "data": {
      "text/plain": [
       "{1, 'two'}"
      ]
     },
     "execution_count": 6,
     "metadata": {},
     "output_type": "execute_result"
    }
   ],
   "source": [
    "set1"
   ]
  },
  {
   "cell_type": "code",
   "execution_count": 7,
   "id": "43d5541c",
   "metadata": {},
   "outputs": [],
   "source": [
    "set1.add(1)                       # it does not add same value again in the set"
   ]
  },
  {
   "cell_type": "code",
   "execution_count": 8,
   "id": "13d50377",
   "metadata": {},
   "outputs": [
    {
     "data": {
      "text/plain": [
       "{1, 'two'}"
      ]
     },
     "execution_count": 8,
     "metadata": {},
     "output_type": "execute_result"
    }
   ],
   "source": [
    "set1                              # All values are uniques"
   ]
  },
  {
   "cell_type": "code",
   "execution_count": 19,
   "id": "8dfd6e60",
   "metadata": {},
   "outputs": [],
   "source": [
    "list1 = ['M', 'i', 's', 's', 'i', 's', 's', 'i', 'p', 'p', 'i']"
   ]
  },
  {
   "cell_type": "code",
   "execution_count": 20,
   "id": "28052931",
   "metadata": {},
   "outputs": [
    {
     "data": {
      "text/plain": [
       "['M', 'i', 's', 's', 'i', 's', 's', 'i', 'p', 'p', 'i']"
      ]
     },
     "execution_count": 20,
     "metadata": {},
     "output_type": "execute_result"
    }
   ],
   "source": [
    "list1"
   ]
  },
  {
   "cell_type": "code",
   "execution_count": 21,
   "id": "d8dfc4cf",
   "metadata": {},
   "outputs": [
    {
     "data": {
      "text/plain": [
       "{'M', 'i', 'p', 's'}"
      ]
     },
     "execution_count": 21,
     "metadata": {},
     "output_type": "execute_result"
    }
   ],
   "source": [
    "set(list1)"
   ]
  },
  {
   "cell_type": "code",
   "execution_count": 22,
   "id": "06e098dc",
   "metadata": {},
   "outputs": [
    {
     "data": {
      "text/plain": [
       "'/Users/shah_gargi/Desktop/Cloud-Journey/Python_course'"
      ]
     },
     "execution_count": 22,
     "metadata": {},
     "output_type": "execute_result"
    }
   ],
   "source": [
    "pwd"
   ]
  },
  {
   "cell_type": "code",
   "execution_count": 43,
   "id": "51b413d2",
   "metadata": {},
   "outputs": [
    {
     "name": "stdout",
     "output_type": "stream",
     "text": [
      "Overwriting file1.txt\n"
     ]
    }
   ],
   "source": [
    "%%writefile file1.txt\n",
    "Hey, This is a text file.\n",
    "That I have made through Python.\n",
    "It is kind of fun."
   ]
  },
  {
   "cell_type": "code",
   "execution_count": 44,
   "id": "a91555b6",
   "metadata": {},
   "outputs": [],
   "source": [
    "myfile = open('file1.txt')"
   ]
  },
  {
   "cell_type": "code",
   "execution_count": 45,
   "id": "416f65f9",
   "metadata": {},
   "outputs": [
    {
     "data": {
      "text/plain": [
       "'Hey, This is a text file.\\nThat I have made through Python.\\nIt is kind of fun.\\n'"
      ]
     },
     "execution_count": 45,
     "metadata": {},
     "output_type": "execute_result"
    }
   ],
   "source": [
    "myfile.read()"
   ]
  },
  {
   "cell_type": "code",
   "execution_count": 46,
   "id": "bf19e071",
   "metadata": {},
   "outputs": [
    {
     "data": {
      "text/plain": [
       "''"
      ]
     },
     "execution_count": 46,
     "metadata": {},
     "output_type": "execute_result"
    }
   ],
   "source": [
    "myfile.read()"
   ]
  },
  {
   "cell_type": "code",
   "execution_count": 47,
   "id": "92729180",
   "metadata": {},
   "outputs": [],
   "source": [
    "# cursor is at the end so it needs to get back to home at loc 0"
   ]
  },
  {
   "cell_type": "code",
   "execution_count": 48,
   "id": "20732335",
   "metadata": {},
   "outputs": [
    {
     "data": {
      "text/plain": [
       "0"
      ]
     },
     "execution_count": 48,
     "metadata": {},
     "output_type": "execute_result"
    }
   ],
   "source": [
    "myfile.seek(0)"
   ]
  },
  {
   "cell_type": "code",
   "execution_count": 49,
   "id": "ee71ecc1",
   "metadata": {},
   "outputs": [
    {
     "data": {
      "text/plain": [
       "'Hey, This is a text file.\\nThat I have made through Python.\\nIt is kind of fun.\\n'"
      ]
     },
     "execution_count": 49,
     "metadata": {},
     "output_type": "execute_result"
    }
   ],
   "source": [
    "myfile.read()"
   ]
  },
  {
   "cell_type": "code",
   "execution_count": 50,
   "id": "157af7ef",
   "metadata": {},
   "outputs": [
    {
     "data": {
      "text/plain": [
       "0"
      ]
     },
     "execution_count": 50,
     "metadata": {},
     "output_type": "execute_result"
    }
   ],
   "source": [
    "myfile.seek(0)"
   ]
  },
  {
   "cell_type": "code",
   "execution_count": 51,
   "id": "a038802d",
   "metadata": {},
   "outputs": [
    {
     "data": {
      "text/plain": [
       "['Hey, This is a text file.\\n',\n",
       " 'That I have made through Python.\\n',\n",
       " 'It is kind of fun.\\n']"
      ]
     },
     "execution_count": 51,
     "metadata": {},
     "output_type": "execute_result"
    }
   ],
   "source": [
    "myfile.readlines()"
   ]
  },
  {
   "cell_type": "code",
   "execution_count": 52,
   "id": "ccbc9a57",
   "metadata": {},
   "outputs": [
    {
     "data": {
      "text/plain": [
       "[]"
      ]
     },
     "execution_count": 52,
     "metadata": {},
     "output_type": "execute_result"
    }
   ],
   "source": [
    "myfile.readlines()"
   ]
  },
  {
   "cell_type": "code",
   "execution_count": 53,
   "id": "d02c7c01",
   "metadata": {},
   "outputs": [
    {
     "data": {
      "text/plain": [
       "0"
      ]
     },
     "execution_count": 53,
     "metadata": {},
     "output_type": "execute_result"
    }
   ],
   "source": [
    "myfile.seek(0)"
   ]
  },
  {
   "cell_type": "code",
   "execution_count": 54,
   "id": "ca032a87",
   "metadata": {},
   "outputs": [],
   "source": [
    "contents = myfile.readlines()"
   ]
  },
  {
   "cell_type": "code",
   "execution_count": 55,
   "id": "00ac4d3b",
   "metadata": {},
   "outputs": [
    {
     "data": {
      "text/plain": [
       "['Hey, This is a text file.\\n',\n",
       " 'That I have made through Python.\\n',\n",
       " 'It is kind of fun.\\n']"
      ]
     },
     "execution_count": 55,
     "metadata": {},
     "output_type": "execute_result"
    }
   ],
   "source": [
    "contents"
   ]
  },
  {
   "cell_type": "code",
   "execution_count": 56,
   "id": "4b152fcf",
   "metadata": {},
   "outputs": [],
   "source": [
    "myfile.close()"
   ]
  },
  {
   "cell_type": "code",
   "execution_count": 57,
   "id": "6dfd8057",
   "metadata": {},
   "outputs": [],
   "source": [
    "with open('file1.txt') as new_file:                          #using new_file a variable to open file1.txt so no need to close the file manually\n",
    "    content_new = new_file.readlines()"
   ]
  },
  {
   "cell_type": "code",
   "execution_count": 58,
   "id": "1d92c824",
   "metadata": {},
   "outputs": [
    {
     "data": {
      "text/plain": [
       "['Hey, This is a text file.\\n',\n",
       " 'That I have made through Python.\\n',\n",
       " 'It is kind of fun.\\n']"
      ]
     },
     "execution_count": 58,
     "metadata": {},
     "output_type": "execute_result"
    }
   ],
   "source": [
    "content_new"
   ]
  },
  {
   "cell_type": "code",
   "execution_count": 60,
   "id": "e82cdf5d",
   "metadata": {},
   "outputs": [],
   "source": [
    "with open('file1.txt', mode = 'a') as new_file:\n",
    "    new_file.write(\"Not much though!LOL\")"
   ]
  },
  {
   "cell_type": "code",
   "execution_count": 64,
   "id": "3327ebf4",
   "metadata": {},
   "outputs": [],
   "source": [
    "myfile = open('file1.txt')"
   ]
  },
  {
   "cell_type": "code",
   "execution_count": 65,
   "id": "59e1e18a",
   "metadata": {},
   "outputs": [
    {
     "data": {
      "text/plain": [
       "'Hey, This is a text file.\\nThat I have made through Python.\\nIt is kind of fun.\\nNot much though!LOL'"
      ]
     },
     "execution_count": 65,
     "metadata": {},
     "output_type": "execute_result"
    }
   ],
   "source": [
    "myfile.read()"
   ]
  },
  {
   "cell_type": "code",
   "execution_count": 66,
   "id": "396079e2",
   "metadata": {},
   "outputs": [],
   "source": [
    "myfile.close()"
   ]
  },
  {
   "cell_type": "code",
   "execution_count": null,
   "id": "6a46231d",
   "metadata": {},
   "outputs": [],
   "source": []
  }
 ],
 "metadata": {
  "kernelspec": {
   "display_name": "Python 3 (ipykernel)",
   "language": "python",
   "name": "python3"
  },
  "language_info": {
   "codemirror_mode": {
    "name": "ipython",
    "version": 3
   },
   "file_extension": ".py",
   "mimetype": "text/x-python",
   "name": "python",
   "nbconvert_exporter": "python",
   "pygments_lexer": "ipython3",
   "version": "3.9.12"
  }
 },
 "nbformat": 4,
 "nbformat_minor": 5
}
