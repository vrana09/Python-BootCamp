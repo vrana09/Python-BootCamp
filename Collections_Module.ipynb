{
 "cells": [
  {
   "cell_type": "markdown",
   "id": "0dfeeacd",
   "metadata": {},
   "source": [
    "***Counter***"
   ]
  },
  {
   "cell_type": "code",
   "execution_count": 3,
   "id": "94a73c09",
   "metadata": {},
   "outputs": [],
   "source": [
    "from collections import Counter"
   ]
  },
  {
   "cell_type": "code",
   "execution_count": 4,
   "id": "891aacbc",
   "metadata": {},
   "outputs": [],
   "source": [
    "letters = \"aabbccddddd\""
   ]
  },
  {
   "cell_type": "code",
   "execution_count": 5,
   "id": "ff1628ec",
   "metadata": {},
   "outputs": [
    {
     "data": {
      "text/plain": [
       "Counter({'a': 2, 'b': 2, 'c': 2, 'd': 5})"
      ]
     },
     "execution_count": 5,
     "metadata": {},
     "output_type": "execute_result"
    }
   ],
   "source": [
    "Counter(letters)"
   ]
  },
  {
   "cell_type": "code",
   "execution_count": 6,
   "id": "6dff6a58",
   "metadata": {},
   "outputs": [],
   "source": [
    "my_list = [1,1,2,3,4,5,6,6,6,6,6]"
   ]
  },
  {
   "cell_type": "code",
   "execution_count": 7,
   "id": "0b120121",
   "metadata": {},
   "outputs": [
    {
     "data": {
      "text/plain": [
       "Counter({1: 2, 2: 1, 3: 1, 4: 1, 5: 1, 6: 5})"
      ]
     },
     "execution_count": 7,
     "metadata": {},
     "output_type": "execute_result"
    }
   ],
   "source": [
    "Counter(my_list)"
   ]
  },
  {
   "cell_type": "code",
   "execution_count": 8,
   "id": "b13233ef",
   "metadata": {},
   "outputs": [],
   "source": [
    "a = Counter(my_list)"
   ]
  },
  {
   "cell_type": "code",
   "execution_count": 9,
   "id": "cddca34e",
   "metadata": {},
   "outputs": [
    {
     "data": {
      "text/plain": [
       "Counter({1: 2, 2: 1, 3: 1, 4: 1, 5: 1, 6: 5})"
      ]
     },
     "execution_count": 9,
     "metadata": {},
     "output_type": "execute_result"
    }
   ],
   "source": [
    "a"
   ]
  },
  {
   "cell_type": "code",
   "execution_count": 10,
   "id": "537cc444",
   "metadata": {},
   "outputs": [
    {
     "data": {
      "text/plain": [
       "[(6, 5), (1, 2), (2, 1), (3, 1), (4, 1), (5, 1)]"
      ]
     },
     "execution_count": 10,
     "metadata": {},
     "output_type": "execute_result"
    }
   ],
   "source": [
    "a.most_common()"
   ]
  },
  {
   "cell_type": "markdown",
   "id": "26b4b2eb",
   "metadata": {},
   "source": [
    "***defaultdict***"
   ]
  },
  {
   "cell_type": "code",
   "execution_count": 12,
   "id": "18bfbfa1",
   "metadata": {},
   "outputs": [],
   "source": [
    "from collections import defaultdict"
   ]
  },
  {
   "cell_type": "code",
   "execution_count": 13,
   "id": "36e9be4f",
   "metadata": {},
   "outputs": [],
   "source": [
    "d = {'A':1}"
   ]
  },
  {
   "cell_type": "code",
   "execution_count": 14,
   "id": "4bdf4c67",
   "metadata": {},
   "outputs": [
    {
     "data": {
      "text/plain": [
       "1"
      ]
     },
     "execution_count": 14,
     "metadata": {},
     "output_type": "execute_result"
    }
   ],
   "source": [
    "d['A']"
   ]
  },
  {
   "cell_type": "code",
   "execution_count": 15,
   "id": "9bc18ef4",
   "metadata": {},
   "outputs": [
    {
     "ename": "KeyError",
     "evalue": "'B'",
     "output_type": "error",
     "traceback": [
      "\u001b[0;31m---------------------------------------------------------------------------\u001b[0m",
      "\u001b[0;31mKeyError\u001b[0m                                  Traceback (most recent call last)",
      "Input \u001b[0;32mIn [15]\u001b[0m, in \u001b[0;36m<cell line: 1>\u001b[0;34m()\u001b[0m\n\u001b[0;32m----> 1\u001b[0m \u001b[43md\u001b[49m\u001b[43m[\u001b[49m\u001b[38;5;124;43m'\u001b[39;49m\u001b[38;5;124;43mB\u001b[39;49m\u001b[38;5;124;43m'\u001b[39;49m\u001b[43m]\u001b[49m\n",
      "\u001b[0;31mKeyError\u001b[0m: 'B'"
     ]
    }
   ],
   "source": [
    "d['B']"
   ]
  },
  {
   "cell_type": "code",
   "execution_count": 16,
   "id": "54d12238",
   "metadata": {},
   "outputs": [],
   "source": [
    "d = defaultdict(lambda : 0)"
   ]
  },
  {
   "cell_type": "code",
   "execution_count": 17,
   "id": "0e405621",
   "metadata": {},
   "outputs": [
    {
     "data": {
      "text/plain": [
       "0"
      ]
     },
     "execution_count": 17,
     "metadata": {},
     "output_type": "execute_result"
    }
   ],
   "source": [
    "d['B']"
   ]
  },
  {
   "cell_type": "code",
   "execution_count": 18,
   "id": "6d228432",
   "metadata": {},
   "outputs": [],
   "source": [
    "my_tuple = (1,2,3)"
   ]
  },
  {
   "cell_type": "code",
   "execution_count": 19,
   "id": "710fa60e",
   "metadata": {},
   "outputs": [
    {
     "data": {
      "text/plain": [
       "1"
      ]
     },
     "execution_count": 19,
     "metadata": {},
     "output_type": "execute_result"
    }
   ],
   "source": [
    "my_tuple[0]"
   ]
  },
  {
   "cell_type": "markdown",
   "id": "e0e2e1ab",
   "metadata": {},
   "source": [
    "***namedtuple***"
   ]
  },
  {
   "cell_type": "code",
   "execution_count": 20,
   "id": "6fde53f7",
   "metadata": {},
   "outputs": [],
   "source": [
    "from collections import namedtuple"
   ]
  },
  {
   "cell_type": "code",
   "execution_count": 21,
   "id": "e71d0617",
   "metadata": {},
   "outputs": [],
   "source": [
    "Car = namedtuple('Car',['model','year','color'])"
   ]
  },
  {
   "cell_type": "code",
   "execution_count": 22,
   "id": "519e395a",
   "metadata": {},
   "outputs": [],
   "source": [
    "Forte = Car(model = 'EX', year = 2021, color = 'white')"
   ]
  },
  {
   "cell_type": "code",
   "execution_count": 24,
   "id": "42c010a7",
   "metadata": {},
   "outputs": [
    {
     "data": {
      "text/plain": [
       "__main__.Car"
      ]
     },
     "execution_count": 24,
     "metadata": {},
     "output_type": "execute_result"
    }
   ],
   "source": [
    "type(Forte)"
   ]
  },
  {
   "cell_type": "code",
   "execution_count": 25,
   "id": "4cf0450a",
   "metadata": {},
   "outputs": [
    {
     "data": {
      "text/plain": [
       "Car(model='EX', year=2021, color='white')"
      ]
     },
     "execution_count": 25,
     "metadata": {},
     "output_type": "execute_result"
    }
   ],
   "source": [
    "Forte"
   ]
  },
  {
   "cell_type": "code",
   "execution_count": 26,
   "id": "e7083a9e",
   "metadata": {},
   "outputs": [
    {
     "data": {
      "text/plain": [
       "'EX'"
      ]
     },
     "execution_count": 26,
     "metadata": {},
     "output_type": "execute_result"
    }
   ],
   "source": [
    "Forte.model"
   ]
  },
  {
   "cell_type": "code",
   "execution_count": 27,
   "id": "c52df7d1",
   "metadata": {},
   "outputs": [
    {
     "data": {
      "text/plain": [
       "'EX'"
      ]
     },
     "execution_count": 27,
     "metadata": {},
     "output_type": "execute_result"
    }
   ],
   "source": [
    "Forte[0]"
   ]
  },
  {
   "cell_type": "code",
   "execution_count": null,
   "id": "2c87f39a",
   "metadata": {},
   "outputs": [],
   "source": []
  }
 ],
 "metadata": {
  "kernelspec": {
   "display_name": "Python 3 (ipykernel)",
   "language": "python",
   "name": "python3"
  },
  "language_info": {
   "codemirror_mode": {
    "name": "ipython",
    "version": 3
   },
   "file_extension": ".py",
   "mimetype": "text/x-python",
   "name": "python",
   "nbconvert_exporter": "python",
   "pygments_lexer": "ipython3",
   "version": "3.9.12"
  }
 },
 "nbformat": 4,
 "nbformat_minor": 5
}
