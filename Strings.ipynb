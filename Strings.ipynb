{
 "cells": [
  {
   "cell_type": "code",
   "execution_count": 1,
   "id": "06930680",
   "metadata": {},
   "outputs": [],
   "source": [
    "# formatting with .format with string"
   ]
  },
  {
   "cell_type": "code",
   "execution_count": 7,
   "id": "892c5c8f",
   "metadata": {},
   "outputs": [
    {
     "name": "stdout",
     "output_type": "stream",
     "text": [
      "Hey, That's Gargi laptop.\n"
     ]
    }
   ],
   "source": [
    "print(\"Hey, That's {} laptop.\" .format('Gargi'))"
   ]
  },
  {
   "cell_type": "code",
   "execution_count": 8,
   "id": "19959a2f",
   "metadata": {},
   "outputs": [
    {
     "name": "stdout",
     "output_type": "stream",
     "text": [
      "Oh, Shut up that's Viraj and Gargi laptop.\n"
     ]
    }
   ],
   "source": [
    "print(\"Oh, Shut up that's {v} and {g} laptop.\" .format(v='Viraj' , g='Gargi'))"
   ]
  },
  {
   "cell_type": "code",
   "execution_count": 4,
   "id": "f01c753b",
   "metadata": {},
   "outputs": [],
   "source": [
    "# the above statement objects are assigned to variables and then variables are inserted in the string"
   ]
  },
  {
   "cell_type": "code",
   "execution_count": 5,
   "id": "52e7aec5",
   "metadata": {},
   "outputs": [],
   "source": [
    "# We can even use indexing into the same, Check it out "
   ]
  },
  {
   "cell_type": "code",
   "execution_count": 9,
   "id": "65e69132",
   "metadata": {},
   "outputs": [
    {
     "name": "stdout",
     "output_type": "stream",
     "text": [
      "What version is better ios 15 or ios 16 ?\n"
     ]
    }
   ],
   "source": [
    "print(\"What version is better {} or {} ?\" .format('ios 15' , 'ios 16'))"
   ]
  },
  {
   "cell_type": "code",
   "execution_count": 10,
   "id": "1c153825",
   "metadata": {},
   "outputs": [],
   "source": [
    "# So by default objects are inserted in same order as typed"
   ]
  },
  {
   "cell_type": "code",
   "execution_count": 11,
   "id": "515f3285",
   "metadata": {},
   "outputs": [],
   "source": [
    "# For indexing, first object = 0 , Second object = 1 and so on if more "
   ]
  },
  {
   "cell_type": "code",
   "execution_count": 12,
   "id": "d3e1e27c",
   "metadata": {},
   "outputs": [],
   "source": [
    "# for example, in the above example if we want to change the order "
   ]
  },
  {
   "cell_type": "code",
   "execution_count": 13,
   "id": "c931548a",
   "metadata": {},
   "outputs": [
    {
     "name": "stdout",
     "output_type": "stream",
     "text": [
      "What version is better ios16 or ios15 ?\n"
     ]
    }
   ],
   "source": [
    "print(\"What version is better {1} or {0} ?\" .format('ios15' , 'ios16'))"
   ]
  },
  {
   "cell_type": "code",
   "execution_count": 3,
   "id": "e878ea7a",
   "metadata": {},
   "outputs": [],
   "source": [
    "result = 100/77 "
   ]
  },
  {
   "cell_type": "code",
   "execution_count": 4,
   "id": "915eca9e",
   "metadata": {},
   "outputs": [
    {
     "name": "stdout",
     "output_type": "stream",
     "text": [
      "result\n"
     ]
    }
   ],
   "source": [
    "print('result')"
   ]
  },
  {
   "cell_type": "code",
   "execution_count": 5,
   "id": "52e389de",
   "metadata": {},
   "outputs": [
    {
     "data": {
      "text/plain": [
       "1.2987012987012987"
      ]
     },
     "execution_count": 5,
     "metadata": {},
     "output_type": "execute_result"
    }
   ],
   "source": [
    "result"
   ]
  },
  {
   "cell_type": "code",
   "execution_count": 7,
   "id": "8d3d6aa3",
   "metadata": {},
   "outputs": [
    {
     "name": "stdout",
     "output_type": "stream",
     "text": [
      "The float number is 1.2987012987012987\n"
     ]
    }
   ],
   "source": [
    "print(\"The float number is {}\" .format(result))"
   ]
  },
  {
   "cell_type": "code",
   "execution_count": 13,
   "id": "d4aed34b",
   "metadata": {},
   "outputs": [
    {
     "name": "stdout",
     "output_type": "stream",
     "text": [
      "The round off number is 1.30\n"
     ]
    }
   ],
   "source": [
    "print(\"The round off number is {r:3.2f}\" .format(r=result))"
   ]
  },
  {
   "cell_type": "code",
   "execution_count": 14,
   "id": "16ed21cc",
   "metadata": {},
   "outputs": [],
   "source": [
    "# The next method is F Strings"
   ]
  },
  {
   "cell_type": "code",
   "execution_count": 15,
   "id": "882e479b",
   "metadata": {},
   "outputs": [],
   "source": [
    "name = 'Jose'"
   ]
  },
  {
   "cell_type": "code",
   "execution_count": 16,
   "id": "e73c8745",
   "metadata": {},
   "outputs": [
    {
     "name": "stdout",
     "output_type": "stream",
     "text": [
      "Hey, Welcome to the blog Jose\n"
     ]
    }
   ],
   "source": [
    "print(f\"Hey, Welcome to the blog {name}\")"
   ]
  },
  {
   "cell_type": "code",
   "execution_count": null,
   "id": "763f1cd2",
   "metadata": {},
   "outputs": [],
   "source": []
  }
 ],
 "metadata": {
  "kernelspec": {
   "display_name": "Python 3 (ipykernel)",
   "language": "python",
   "name": "python3"
  },
  "language_info": {
   "codemirror_mode": {
    "name": "ipython",
    "version": 3
   },
   "file_extension": ".py",
   "mimetype": "text/x-python",
   "name": "python",
   "nbconvert_exporter": "python",
   "pygments_lexer": "ipython3",
   "version": "3.9.12"
  }
 },
 "nbformat": 4,
 "nbformat_minor": 5
}
