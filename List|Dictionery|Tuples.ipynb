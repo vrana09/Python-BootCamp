{
 "cells": [
  {
   "cell_type": "code",
   "execution_count": 1,
   "id": "508c0b3f",
   "metadata": {},
   "outputs": [],
   "source": [
    "list_1 = [0,1,2]"
   ]
  },
  {
   "cell_type": "code",
   "execution_count": 2,
   "id": "7fad1544",
   "metadata": {},
   "outputs": [
    {
     "name": "stdout",
     "output_type": "stream",
     "text": [
      "[0, 1, 2]\n"
     ]
    }
   ],
   "source": [
    "print(list_1)"
   ]
  },
  {
   "cell_type": "code",
   "execution_count": 3,
   "id": "5b46fd11",
   "metadata": {},
   "outputs": [],
   "source": [
    "list_1 = ['Dog', 2]"
   ]
  },
  {
   "cell_type": "code",
   "execution_count": 4,
   "id": "82f8610f",
   "metadata": {},
   "outputs": [
    {
     "name": "stdout",
     "output_type": "stream",
     "text": [
      "['Dog', 2]\n"
     ]
    }
   ],
   "source": [
    "print(list_1)"
   ]
  },
  {
   "cell_type": "code",
   "execution_count": 5,
   "id": "ea9101a5",
   "metadata": {},
   "outputs": [],
   "source": [
    "# Difference 1 - Lists are mutable while Strings are not."
   ]
  },
  {
   "cell_type": "code",
   "execution_count": 6,
   "id": "57f9afa0",
   "metadata": {},
   "outputs": [],
   "source": [
    "# Difference 2 - Lists can have elements of different data types. "
   ]
  },
  {
   "cell_type": "code",
   "execution_count": 7,
   "id": "7f4ba0ed",
   "metadata": {},
   "outputs": [],
   "source": [
    "list_2 = [0,1, 'two']"
   ]
  },
  {
   "cell_type": "code",
   "execution_count": 8,
   "id": "f368061f",
   "metadata": {},
   "outputs": [
    {
     "data": {
      "text/plain": [
       "['Dog', 2, 0, 1, 'two']"
      ]
     },
     "execution_count": 8,
     "metadata": {},
     "output_type": "execute_result"
    }
   ],
   "source": [
    "list_1 + list_2              # List Concatenate"
   ]
  },
  {
   "cell_type": "code",
   "execution_count": 9,
   "id": "4ab4724c",
   "metadata": {},
   "outputs": [
    {
     "data": {
      "text/plain": [
       "2"
      ]
     },
     "execution_count": 9,
     "metadata": {},
     "output_type": "execute_result"
    }
   ],
   "source": [
    "len(list_1)"
   ]
  },
  {
   "cell_type": "code",
   "execution_count": 10,
   "id": "0de7eb27",
   "metadata": {},
   "outputs": [
    {
     "data": {
      "text/plain": [
       "'Dog'"
      ]
     },
     "execution_count": 10,
     "metadata": {},
     "output_type": "execute_result"
    }
   ],
   "source": [
    "list_1[0]                   # List indexing"
   ]
  },
  {
   "cell_type": "code",
   "execution_count": 11,
   "id": "803a5162",
   "metadata": {},
   "outputs": [
    {
     "data": {
      "text/plain": [
       "['two', 1, 0]"
      ]
     },
     "execution_count": 11,
     "metadata": {},
     "output_type": "execute_result"
    }
   ],
   "source": [
    "list_2[::-1]"
   ]
  },
  {
   "cell_type": "code",
   "execution_count": 12,
   "id": "ceec5d84",
   "metadata": {},
   "outputs": [],
   "source": [
    "list_1[0] = 'Cat'"
   ]
  },
  {
   "cell_type": "code",
   "execution_count": 13,
   "id": "cfd97c7d",
   "metadata": {},
   "outputs": [
    {
     "data": {
      "text/plain": [
       "['Cat', 2]"
      ]
     },
     "execution_count": 13,
     "metadata": {},
     "output_type": "execute_result"
    }
   ],
   "source": [
    "list_1"
   ]
  },
  {
   "cell_type": "code",
   "execution_count": 14,
   "id": "dbb6ab02",
   "metadata": {},
   "outputs": [],
   "source": [
    "list_1.append('Dog')         #to add item in the list at the end"
   ]
  },
  {
   "cell_type": "code",
   "execution_count": 15,
   "id": "58bc07b9",
   "metadata": {},
   "outputs": [
    {
     "data": {
      "text/plain": [
       "['Cat', 2, 'Dog']"
      ]
     },
     "execution_count": 15,
     "metadata": {},
     "output_type": "execute_result"
    }
   ],
   "source": [
    "list_1\n"
   ]
  },
  {
   "cell_type": "code",
   "execution_count": 16,
   "id": "e3b3b36a",
   "metadata": {},
   "outputs": [],
   "source": [
    "list_1.append('Hamster')"
   ]
  },
  {
   "cell_type": "code",
   "execution_count": 17,
   "id": "8270cd83",
   "metadata": {},
   "outputs": [
    {
     "data": {
      "text/plain": [
       "['Cat', 2, 'Dog', 'Hamster']"
      ]
     },
     "execution_count": 17,
     "metadata": {},
     "output_type": "execute_result"
    }
   ],
   "source": [
    "list_1\n"
   ]
  },
  {
   "cell_type": "code",
   "execution_count": 18,
   "id": "2df40309",
   "metadata": {},
   "outputs": [
    {
     "data": {
      "text/plain": [
       "'Hamster'"
      ]
     },
     "execution_count": 18,
     "metadata": {},
     "output_type": "execute_result"
    }
   ],
   "source": [
    "list_1.pop()                  # pop method is used to delete item from the end of list"
   ]
  },
  {
   "cell_type": "code",
   "execution_count": 19,
   "id": "7132e85c",
   "metadata": {},
   "outputs": [
    {
     "data": {
      "text/plain": [
       "['Cat', 2, 'Dog']"
      ]
     },
     "execution_count": 19,
     "metadata": {},
     "output_type": "execute_result"
    }
   ],
   "source": [
    "list_1"
   ]
  },
  {
   "cell_type": "code",
   "execution_count": 20,
   "id": "50ba02b3",
   "metadata": {},
   "outputs": [
    {
     "data": {
      "text/plain": [
       "2"
      ]
     },
     "execution_count": 20,
     "metadata": {},
     "output_type": "execute_result"
    }
   ],
   "source": [
    "list_1.pop(1)                 # pop - indexing"
   ]
  },
  {
   "cell_type": "code",
   "execution_count": 21,
   "id": "46d8fbf7",
   "metadata": {},
   "outputs": [
    {
     "data": {
      "text/plain": [
       "['Cat', 'Dog']"
      ]
     },
     "execution_count": 21,
     "metadata": {},
     "output_type": "execute_result"
    }
   ],
   "source": [
    "list_1"
   ]
  },
  {
   "cell_type": "code",
   "execution_count": 22,
   "id": "396858e8",
   "metadata": {},
   "outputs": [],
   "source": [
    "list_3 = [1,4,2,5,3]"
   ]
  },
  {
   "cell_type": "code",
   "execution_count": 23,
   "id": "d13b0e8a",
   "metadata": {},
   "outputs": [],
   "source": [
    "list_3.sort()                 # list sort does not return anything"
   ]
  },
  {
   "cell_type": "code",
   "execution_count": 24,
   "id": "b3c4ab09",
   "metadata": {},
   "outputs": [
    {
     "data": {
      "text/plain": [
       "[1, 2, 3, 4, 5]"
      ]
     },
     "execution_count": 24,
     "metadata": {},
     "output_type": "execute_result"
    }
   ],
   "source": [
    "list_3"
   ]
  },
  {
   "cell_type": "code",
   "execution_count": 25,
   "id": "7615a703",
   "metadata": {},
   "outputs": [],
   "source": [
    "list_3 = [1,4,3,2,5]\n"
   ]
  },
  {
   "cell_type": "code",
   "execution_count": 26,
   "id": "e20687c9",
   "metadata": {},
   "outputs": [],
   "source": [
    "list_3.sort()"
   ]
  },
  {
   "cell_type": "code",
   "execution_count": 27,
   "id": "2356e9f9",
   "metadata": {},
   "outputs": [
    {
     "data": {
      "text/plain": [
       "[1, 2, 3, 4, 5]"
      ]
     },
     "execution_count": 27,
     "metadata": {},
     "output_type": "execute_result"
    }
   ],
   "source": [
    "list_3"
   ]
  },
  {
   "cell_type": "code",
   "execution_count": 28,
   "id": "f95e557b",
   "metadata": {},
   "outputs": [],
   "source": [
    "list_3.reverse()                # to reverse the elements in list"
   ]
  },
  {
   "cell_type": "code",
   "execution_count": 29,
   "id": "c4f4f11e",
   "metadata": {},
   "outputs": [
    {
     "data": {
      "text/plain": [
       "[5, 4, 3, 2, 1]"
      ]
     },
     "execution_count": 29,
     "metadata": {},
     "output_type": "execute_result"
    }
   ],
   "source": [
    "list_3"
   ]
  },
  {
   "cell_type": "code",
   "execution_count": 30,
   "id": "c8c51ccb",
   "metadata": {},
   "outputs": [],
   "source": [
    "grades_chart = {'Raj': 98 , 'Yash' : 97 , 'Dev' : 99}      # to make dictionery"
   ]
  },
  {
   "cell_type": "code",
   "execution_count": 31,
   "id": "b7286bc0",
   "metadata": {},
   "outputs": [
    {
     "data": {
      "text/plain": [
       "{'Raj': 98, 'Yash': 97, 'Dev': 99}"
      ]
     },
     "execution_count": 31,
     "metadata": {},
     "output_type": "execute_result"
    }
   ],
   "source": [
    "grades_chart\n"
   ]
  },
  {
   "cell_type": "code",
   "execution_count": 32,
   "id": "19e472d5",
   "metadata": {},
   "outputs": [
    {
     "data": {
      "text/plain": [
       "97"
      ]
     },
     "execution_count": 32,
     "metadata": {},
     "output_type": "execute_result"
    }
   ],
   "source": [
    "grades_chart['Yash']"
   ]
  },
  {
   "cell_type": "code",
   "execution_count": 33,
   "id": "424d9857",
   "metadata": {},
   "outputs": [],
   "source": [
    "colors = {1 : 'red', 2 : 'blue', 3 : 'green' , 'rest' : ['w', 'o', 'r'] }          # stacking list in dictionery"
   ]
  },
  {
   "cell_type": "code",
   "execution_count": 34,
   "id": "75e2b8dc",
   "metadata": {},
   "outputs": [
    {
     "data": {
      "text/plain": [
       "{1: 'red', 2: 'blue', 3: 'green', 'rest': ['w', 'o', 'r']}"
      ]
     },
     "execution_count": 34,
     "metadata": {},
     "output_type": "execute_result"
    }
   ],
   "source": [
    "colors\n"
   ]
  },
  {
   "cell_type": "code",
   "execution_count": 35,
   "id": "b1cbaf91",
   "metadata": {},
   "outputs": [
    {
     "data": {
      "text/plain": [
       "'green'"
      ]
     },
     "execution_count": 35,
     "metadata": {},
     "output_type": "execute_result"
    }
   ],
   "source": [
    "colors[3]"
   ]
  },
  {
   "cell_type": "code",
   "execution_count": 36,
   "id": "4fc85e8e",
   "metadata": {},
   "outputs": [
    {
     "data": {
      "text/plain": [
       "'o'"
      ]
     },
     "execution_count": 36,
     "metadata": {},
     "output_type": "execute_result"
    }
   ],
   "source": [
    "colors['rest'][1]"
   ]
  },
  {
   "cell_type": "code",
   "execution_count": 37,
   "id": "d7bd9573",
   "metadata": {},
   "outputs": [],
   "source": [
    "colors['rest'] = ['g']                                     # to replace or add in dictionery"
   ]
  },
  {
   "cell_type": "code",
   "execution_count": 38,
   "id": "f88b323b",
   "metadata": {},
   "outputs": [
    {
     "data": {
      "text/plain": [
       "{1: 'red', 2: 'blue', 3: 'green', 'rest': ['g']}"
      ]
     },
     "execution_count": 38,
     "metadata": {},
     "output_type": "execute_result"
    }
   ],
   "source": [
    "colors"
   ]
  },
  {
   "cell_type": "code",
   "execution_count": 39,
   "id": "3a5762d5",
   "metadata": {},
   "outputs": [
    {
     "data": {
      "text/plain": [
       "dict_keys([1, 2, 3, 'rest'])"
      ]
     },
     "execution_count": 39,
     "metadata": {},
     "output_type": "execute_result"
    }
   ],
   "source": [
    "colors.keys()                                              # to get all keys "
   ]
  },
  {
   "cell_type": "code",
   "execution_count": 40,
   "id": "40973040",
   "metadata": {},
   "outputs": [
    {
     "data": {
      "text/plain": [
       "dict_values(['red', 'blue', 'green', ['g']])"
      ]
     },
     "execution_count": 40,
     "metadata": {},
     "output_type": "execute_result"
    }
   ],
   "source": [
    "colors.values()                                            # to get all the values"
   ]
  },
  {
   "cell_type": "code",
   "execution_count": 41,
   "id": "d182f0b6",
   "metadata": {},
   "outputs": [
    {
     "data": {
      "text/plain": [
       "dict_items([(1, 'red'), (2, 'blue'), (3, 'green'), ('rest', ['g'])])"
      ]
     },
     "execution_count": 41,
     "metadata": {},
     "output_type": "execute_result"
    }
   ],
   "source": [
    "colors.items()                                             # to get pairings"
   ]
  },
  {
   "cell_type": "code",
   "execution_count": null,
   "id": "8bc03577",
   "metadata": {},
   "outputs": [],
   "source": []
  },
  {
   "cell_type": "code",
   "execution_count": 42,
   "id": "aebe5636",
   "metadata": {},
   "outputs": [],
   "source": [
    "t = (1, 2, 3)                         # to make tuple"
   ]
  },
  {
   "cell_type": "code",
   "execution_count": 43,
   "id": "d2065d7f",
   "metadata": {},
   "outputs": [
    {
     "name": "stdout",
     "output_type": "stream",
     "text": [
      "(1, 2, 3)\n"
     ]
    }
   ],
   "source": [
    "print(t)"
   ]
  },
  {
   "cell_type": "code",
   "execution_count": 44,
   "id": "049b540a",
   "metadata": {},
   "outputs": [
    {
     "data": {
      "text/plain": [
       "1"
      ]
     },
     "execution_count": 44,
     "metadata": {},
     "output_type": "execute_result"
    }
   ],
   "source": [
    "t[0]"
   ]
  },
  {
   "cell_type": "code",
   "execution_count": 45,
   "id": "c371b8fa",
   "metadata": {},
   "outputs": [],
   "source": [
    "t = ('one', 2)"
   ]
  },
  {
   "cell_type": "code",
   "execution_count": 46,
   "id": "c39f74c3",
   "metadata": {},
   "outputs": [
    {
     "data": {
      "text/plain": [
       "'one'"
      ]
     },
     "execution_count": 46,
     "metadata": {},
     "output_type": "execute_result"
    }
   ],
   "source": [
    "t[0]"
   ]
  },
  {
   "cell_type": "code",
   "execution_count": 47,
   "id": "b38a783b",
   "metadata": {},
   "outputs": [],
   "source": [
    "t = ('g', 'g','s')"
   ]
  },
  {
   "cell_type": "code",
   "execution_count": 48,
   "id": "f32cee30",
   "metadata": {},
   "outputs": [
    {
     "data": {
      "text/plain": [
       "2"
      ]
     },
     "execution_count": 48,
     "metadata": {},
     "output_type": "execute_result"
    }
   ],
   "source": [
    "t.count('g')"
   ]
  },
  {
   "cell_type": "code",
   "execution_count": 49,
   "id": "2b8d17fd",
   "metadata": {},
   "outputs": [
    {
     "data": {
      "text/plain": [
       "2"
      ]
     },
     "execution_count": 49,
     "metadata": {},
     "output_type": "execute_result"
    }
   ],
   "source": [
    "t.index('s')"
   ]
  },
  {
   "cell_type": "code",
   "execution_count": 50,
   "id": "cadb9ab9",
   "metadata": {},
   "outputs": [],
   "source": [
    "list_new = [1, 2, 'three']"
   ]
  },
  {
   "cell_type": "code",
   "execution_count": 51,
   "id": "c5932019",
   "metadata": {},
   "outputs": [
    {
     "data": {
      "text/plain": [
       "1"
      ]
     },
     "execution_count": 51,
     "metadata": {},
     "output_type": "execute_result"
    }
   ],
   "source": [
    "list_new[0]"
   ]
  },
  {
   "cell_type": "code",
   "execution_count": 52,
   "id": "47e85d3e",
   "metadata": {},
   "outputs": [],
   "source": [
    "list_new[0] = 'one'"
   ]
  },
  {
   "cell_type": "code",
   "execution_count": 53,
   "id": "1c719569",
   "metadata": {},
   "outputs": [
    {
     "data": {
      "text/plain": [
       "['one', 2, 'three']"
      ]
     },
     "execution_count": 53,
     "metadata": {},
     "output_type": "execute_result"
    }
   ],
   "source": [
    "list_new"
   ]
  },
  {
   "cell_type": "code",
   "execution_count": 54,
   "id": "39469407",
   "metadata": {},
   "outputs": [
    {
     "ename": "TypeError",
     "evalue": "'tuple' object does not support item assignment",
     "output_type": "error",
     "traceback": [
      "\u001b[0;31m---------------------------------------------------------------------------\u001b[0m",
      "\u001b[0;31mTypeError\u001b[0m                                 Traceback (most recent call last)",
      "Input \u001b[0;32mIn [54]\u001b[0m, in \u001b[0;36m<cell line: 1>\u001b[0;34m()\u001b[0m\n\u001b[0;32m----> 1\u001b[0m t[\u001b[38;5;241m0\u001b[39m] \u001b[38;5;241m=\u001b[39m \u001b[38;5;124m'\u001b[39m\u001b[38;5;124mone\u001b[39m\u001b[38;5;124m'\u001b[39m\n",
      "\u001b[0;31mTypeError\u001b[0m: 'tuple' object does not support item assignment"
     ]
    }
   ],
   "source": [
    "t[0] = 'one'"
   ]
  },
  {
   "cell_type": "code",
   "execution_count": null,
   "id": "dc02afae",
   "metadata": {},
   "outputs": [],
   "source": [
    "# tuples are immutable"
   ]
  }
 ],
 "metadata": {
  "kernelspec": {
   "display_name": "Python 3 (ipykernel)",
   "language": "python",
   "name": "python3"
  },
  "language_info": {
   "codemirror_mode": {
    "name": "ipython",
    "version": 3
   },
   "file_extension": ".py",
   "mimetype": "text/x-python",
   "name": "python",
   "nbconvert_exporter": "python",
   "pygments_lexer": "ipython3",
   "version": "3.9.12"
  }
 },
 "nbformat": 4,
 "nbformat_minor": 5
}
