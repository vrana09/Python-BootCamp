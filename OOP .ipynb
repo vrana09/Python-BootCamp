{
 "cells": [
  {
   "cell_type": "markdown",
   "id": "ca618e3b",
   "metadata": {},
   "source": [
    "class NameOfClass():\n",
    "    \n",
    "    def __init__(self,para1,para2):\n",
    "        self.para1 = para1\n",
    "        self.para2 = para2\n",
    "        \n",
    "    def some_method(self):\n",
    "        #perform some function\n",
    "    \n",
    "    "
   ]
  },
  {
   "cell_type": "code",
   "execution_count": 1,
   "id": "1f880d1a",
   "metadata": {},
   "outputs": [],
   "source": [
    "class Dog():\n",
    "    \n",
    "    #Class Object Attribut\n",
    "    #Same for any Instance of Class\n",
    "    \n",
    "    species = 'mammal'\n",
    "    \n",
    "    def __init__(self,breed,name):\n",
    "        \n",
    "        \n",
    "        #Attributes\n",
    "        self.breed = breed\n",
    "        self.name = name\n",
    "        \n",
    "    #Operations/Actions --- Methods\n",
    "    def bark(self,number):\n",
    "        \n",
    "        print(\"Woof, My name is {} and the number is {}.\".format(self.name,number))"
   ]
  },
  {
   "cell_type": "code",
   "execution_count": 2,
   "id": "34191736",
   "metadata": {},
   "outputs": [],
   "source": [
    "dog1 = Dog('lab','Rose')"
   ]
  },
  {
   "cell_type": "code",
   "execution_count": 3,
   "id": "b3e7f166",
   "metadata": {},
   "outputs": [
    {
     "data": {
      "text/plain": [
       "'lab'"
      ]
     },
     "execution_count": 3,
     "metadata": {},
     "output_type": "execute_result"
    }
   ],
   "source": [
    "dog1.breed"
   ]
  },
  {
   "cell_type": "code",
   "execution_count": 4,
   "id": "bac5d34c",
   "metadata": {},
   "outputs": [
    {
     "data": {
      "text/plain": [
       "'Rose'"
      ]
     },
     "execution_count": 4,
     "metadata": {},
     "output_type": "execute_result"
    }
   ],
   "source": [
    "dog1.name"
   ]
  },
  {
   "cell_type": "code",
   "execution_count": 5,
   "id": "937a24c6",
   "metadata": {},
   "outputs": [
    {
     "data": {
      "text/plain": [
       "'mammal'"
      ]
     },
     "execution_count": 5,
     "metadata": {},
     "output_type": "execute_result"
    }
   ],
   "source": [
    "dog1.species"
   ]
  },
  {
   "cell_type": "code",
   "execution_count": 6,
   "id": "26201954",
   "metadata": {},
   "outputs": [
    {
     "name": "stdout",
     "output_type": "stream",
     "text": [
      "Woof, My name is Rose and the number is 3.\n"
     ]
    }
   ],
   "source": [
    "dog1.bark(3)"
   ]
  },
  {
   "cell_type": "markdown",
   "id": "4dc3b446",
   "metadata": {},
   "source": [
    "Differnce between calling a method and an attribute is ()"
   ]
  },
  {
   "cell_type": "code",
   "execution_count": 7,
   "id": "826beef8",
   "metadata": {},
   "outputs": [],
   "source": [
    "class Circle():\n",
    "    \n",
    "    pi = 3.14\n",
    "    \n",
    "    def __init__(self,radius):\n",
    "        \n",
    "        self.radius = radius\n",
    "        self.area = radius * radius * self.pi\n",
    "        \n",
    "    def get_circumference(self):\n",
    "        \n",
    "        return (2 * self.pi * self.radius)"
   ]
  },
  {
   "cell_type": "code",
   "execution_count": 8,
   "id": "99e774c3",
   "metadata": {},
   "outputs": [],
   "source": [
    "circle1 = Circle(2)"
   ]
  },
  {
   "cell_type": "code",
   "execution_count": 9,
   "id": "52c1b6ca",
   "metadata": {},
   "outputs": [
    {
     "data": {
      "text/plain": [
       "2"
      ]
     },
     "execution_count": 9,
     "metadata": {},
     "output_type": "execute_result"
    }
   ],
   "source": [
    "circle1.radius"
   ]
  },
  {
   "cell_type": "code",
   "execution_count": 10,
   "id": "81dbb69f",
   "metadata": {},
   "outputs": [
    {
     "data": {
      "text/plain": [
       "12.56"
      ]
     },
     "execution_count": 10,
     "metadata": {},
     "output_type": "execute_result"
    }
   ],
   "source": [
    "circle1.area"
   ]
  },
  {
   "cell_type": "code",
   "execution_count": 11,
   "id": "0c921b05",
   "metadata": {},
   "outputs": [],
   "source": [
    "class Animal():\n",
    "    \n",
    "    def __init__(self):\n",
    "        print(\"ANIMAL Created\")\n",
    "        \n",
    "    def eat(self):\n",
    "        print(\"I am eating.\")\n",
    "        \n",
    "    def who_am_i(self):\n",
    "        print(\"I am an animal.\")"
   ]
  },
  {
   "cell_type": "markdown",
   "id": "35046cb7",
   "metadata": {},
   "source": [
    "***Inheritance***"
   ]
  },
  {
   "cell_type": "code",
   "execution_count": 12,
   "id": "d69d8651",
   "metadata": {},
   "outputs": [],
   "source": [
    "class Dog(Animal):\n",
    "    \n",
    "    def __init__(self):\n",
    "        Animal.__init__(self)\n",
    "        print(\"DOG Created\")\n",
    "        \n",
    "    def who_am_i(self):\n",
    "        print(\"I am a dog.\")"
   ]
  },
  {
   "cell_type": "code",
   "execution_count": 13,
   "id": "50c239e2",
   "metadata": {},
   "outputs": [
    {
     "name": "stdout",
     "output_type": "stream",
     "text": [
      "ANIMAL Created\n",
      "DOG Created\n"
     ]
    }
   ],
   "source": [
    "dog2 = Dog()"
   ]
  },
  {
   "cell_type": "code",
   "execution_count": 14,
   "id": "3768d45a",
   "metadata": {},
   "outputs": [
    {
     "name": "stdout",
     "output_type": "stream",
     "text": [
      "I am a dog.\n"
     ]
    }
   ],
   "source": [
    "dog2.who_am_i()"
   ]
  },
  {
   "cell_type": "markdown",
   "id": "ac320d6a",
   "metadata": {},
   "source": [
    "***Polymorphism***"
   ]
  },
  {
   "cell_type": "code",
   "execution_count": 15,
   "id": "c708b18e",
   "metadata": {},
   "outputs": [],
   "source": [
    "class Dog():\n",
    "    \n",
    "    def __init__(self,name):\n",
    "        self.name = name\n",
    "        \n",
    "    def speak(self):\n",
    "        print(\"{} says woof!\".format(self.name))\n",
    "        "
   ]
  },
  {
   "cell_type": "code",
   "execution_count": 16,
   "id": "026726e3",
   "metadata": {},
   "outputs": [],
   "source": [
    "class Cat():\n",
    "    \n",
    "    def __init__(self,name):\n",
    "        self.name = name\n",
    "        \n",
    "    def speak(self):\n",
    "        print(\"{} says meow!\".format(self.name))"
   ]
  },
  {
   "cell_type": "code",
   "execution_count": 17,
   "id": "a1ddcbb6",
   "metadata": {},
   "outputs": [],
   "source": [
    "blue = Dog('blue')\n",
    "rossy = Cat('Rossy')"
   ]
  },
  {
   "cell_type": "code",
   "execution_count": 18,
   "id": "0479e106",
   "metadata": {},
   "outputs": [
    {
     "name": "stdout",
     "output_type": "stream",
     "text": [
      "blue says woof!\n"
     ]
    }
   ],
   "source": [
    "blue.speak()"
   ]
  },
  {
   "cell_type": "code",
   "execution_count": 19,
   "id": "367b48b6",
   "metadata": {},
   "outputs": [
    {
     "name": "stdout",
     "output_type": "stream",
     "text": [
      "Rossy says meow!\n"
     ]
    }
   ],
   "source": [
    "rossy.speak()"
   ]
  },
  {
   "cell_type": "code",
   "execution_count": 20,
   "id": "a2df1e8c",
   "metadata": {},
   "outputs": [
    {
     "data": {
      "text/plain": [
       "__main__.Dog"
      ]
     },
     "execution_count": 20,
     "metadata": {},
     "output_type": "execute_result"
    }
   ],
   "source": [
    "type(blue)"
   ]
  },
  {
   "cell_type": "code",
   "execution_count": 21,
   "id": "04979da2",
   "metadata": {},
   "outputs": [
    {
     "data": {
      "text/plain": [
       "__main__.Cat"
      ]
     },
     "execution_count": 21,
     "metadata": {},
     "output_type": "execute_result"
    }
   ],
   "source": [
    "type(rossy)"
   ]
  },
  {
   "cell_type": "markdown",
   "id": "c575d1a4",
   "metadata": {},
   "source": [
    "***Special Methods***"
   ]
  },
  {
   "cell_type": "code",
   "execution_count": 22,
   "id": "5895db4a",
   "metadata": {},
   "outputs": [],
   "source": [
    "mylist = [1,2,3]"
   ]
  },
  {
   "cell_type": "code",
   "execution_count": 23,
   "id": "4457fb4f",
   "metadata": {},
   "outputs": [
    {
     "data": {
      "text/plain": [
       "3"
      ]
     },
     "execution_count": 23,
     "metadata": {},
     "output_type": "execute_result"
    }
   ],
   "source": [
    "len(mylist)"
   ]
  },
  {
   "cell_type": "code",
   "execution_count": 24,
   "id": "f45bf77b",
   "metadata": {},
   "outputs": [
    {
     "name": "stdout",
     "output_type": "stream",
     "text": [
      "[1, 2, 3]\n"
     ]
    }
   ],
   "source": [
    "print(mylist)"
   ]
  },
  {
   "cell_type": "code",
   "execution_count": 26,
   "id": "14f24394",
   "metadata": {},
   "outputs": [],
   "source": [
    "class Book():\n",
    "    \n",
    "    def __init__(self,name,author,pages):\n",
    "        self.name = name\n",
    "        self.author = author\n",
    "        self.pages = pages\n",
    "        \n",
    "    \n",
    "    def __str__(self):\n",
    "        return f\"{self.name} by {self.author}.\"\n",
    "    \n",
    "    def __len__(self):\n",
    "        return self.pages\n",
    "    \n",
    "    "
   ]
  },
  {
   "cell_type": "code",
   "execution_count": 27,
   "id": "155a4155",
   "metadata": {},
   "outputs": [],
   "source": [
    "b = Book('OOP','Rahul',25)"
   ]
  },
  {
   "cell_type": "code",
   "execution_count": 28,
   "id": "e3e13ab5",
   "metadata": {},
   "outputs": [
    {
     "data": {
      "text/plain": [
       "'Rahul'"
      ]
     },
     "execution_count": 28,
     "metadata": {},
     "output_type": "execute_result"
    }
   ],
   "source": [
    "b.author"
   ]
  },
  {
   "cell_type": "code",
   "execution_count": 29,
   "id": "558f31ec",
   "metadata": {},
   "outputs": [
    {
     "name": "stdout",
     "output_type": "stream",
     "text": [
      "OOP by Rahul.\n"
     ]
    }
   ],
   "source": [
    "print(b)"
   ]
  },
  {
   "cell_type": "code",
   "execution_count": 30,
   "id": "07e6c0f8",
   "metadata": {},
   "outputs": [
    {
     "data": {
      "text/plain": [
       "25"
      ]
     },
     "execution_count": 30,
     "metadata": {},
     "output_type": "execute_result"
    }
   ],
   "source": [
    "len(b)"
   ]
  },
  {
   "cell_type": "code",
   "execution_count": 31,
   "id": "44d53ee0",
   "metadata": {},
   "outputs": [],
   "source": [
    "class Line():\n",
    "    \n",
    "    def __init__(self,coor1):\n",
    "        self.coor1 = coor1\n",
    "        \n",
    "    def area(self):\n",
    "        return self.coor1[0]*self.coor1[1]"
   ]
  },
  {
   "cell_type": "code",
   "execution_count": 32,
   "id": "ecf36cad",
   "metadata": {},
   "outputs": [],
   "source": [
    "line1 = Line(coor1=(1,2))"
   ]
  },
  {
   "cell_type": "code",
   "execution_count": 33,
   "id": "1e80d89f",
   "metadata": {},
   "outputs": [
    {
     "data": {
      "text/plain": [
       "2"
      ]
     },
     "execution_count": 33,
     "metadata": {},
     "output_type": "execute_result"
    }
   ],
   "source": [
    "line1.area()"
   ]
  },
  {
   "cell_type": "code",
   "execution_count": 34,
   "id": "d8088190",
   "metadata": {},
   "outputs": [
    {
     "data": {
      "text/plain": [
       "2.0"
      ]
     },
     "execution_count": 34,
     "metadata": {},
     "output_type": "execute_result"
    }
   ],
   "source": [
    "import math\n",
    "math.sqrt(4)"
   ]
  },
  {
   "cell_type": "code",
   "execution_count": null,
   "id": "58e6706a",
   "metadata": {},
   "outputs": [],
   "source": []
  }
 ],
 "metadata": {
  "kernelspec": {
   "display_name": "Python 3 (ipykernel)",
   "language": "python",
   "name": "python3"
  },
  "language_info": {
   "codemirror_mode": {
    "name": "ipython",
    "version": 3
   },
   "file_extension": ".py",
   "mimetype": "text/x-python",
   "name": "python",
   "nbconvert_exporter": "python",
   "pygments_lexer": "ipython3",
   "version": "3.9.12"
  }
 },
 "nbformat": 4,
 "nbformat_minor": 5
}
