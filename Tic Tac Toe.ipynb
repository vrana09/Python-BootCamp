{
 "cells": [
  {
   "cell_type": "markdown",
   "id": "bf40cb55",
   "metadata": {},
   "source": [
    "# The TicTacToe Game using Python"
   ]
  },
  {
   "cell_type": "markdown",
   "id": "eb20062f",
   "metadata": {},
   "source": [
    " Normal Explanation on how it works :\n",
    " 1. Display the TicTacToe Game Board with numbers for each position on the board.\n",
    " 2. Ask user 1 to select 'x' or 'o'. So depending on user 1 selection assign the other value to user 2.\n",
    " 3. Ask for the positions on the game board from both users 1 and 2.\n",
    " 4. Continue the step 3 unless there is a winner and all the positions are not taken.\n",
    " 5. If the game board is full and there is no winner, Display as \"Draw\"."
   ]
  },
  {
   "cell_type": "markdown",
   "id": "aeb4ddf3",
   "metadata": {},
   "source": [
    "To begin with the code, Declare the variables."
   ]
  },
  {
   "cell_type": "code",
   "execution_count": 1,
   "id": "e4c0d43a",
   "metadata": {},
   "outputs": [],
   "source": [
    "global actual_board\n",
    "actual_board = [' ',' ',' ',' ',' ',' ',' ',' ',' ']\n",
    "\n",
    "global dis_board\n",
    "dis_board = ['1','2','3','4','5','6','7','8','9']\n",
    "\n",
    "user_pos = 0\n",
    "counter_draw = 0"
   ]
  },
  {
   "cell_type": "markdown",
   "id": "cf4a4f73",
   "metadata": {},
   "source": [
    "Creating a function that will display the game board."
   ]
  },
  {
   "cell_type": "code",
   "execution_count": 2,
   "id": "a3e58342",
   "metadata": {},
   "outputs": [],
   "source": [
    "def display(theboard):\n",
    "    \n",
    "    print( theboard[0] + ' | ' + theboard[1] + ' | ' + theboard[2] ) \n",
    "    print(\"--|---|--\")\n",
    "    print( theboard[3] + ' | ' + theboard[4] + ' | ' + theboard[5] ) \n",
    "    print(\"--|---|--\")\n",
    "    print( theboard[6] + ' | ' + theboard[7] + ' | ' + theboard[8] ) \n"
   ]
  },
  {
   "cell_type": "markdown",
   "id": "9ed6e1a6",
   "metadata": {},
   "source": [
    "A function to take input 'x' or 'o' from user1. And assigning the other value to user2. Also a while loop is added to validate the input from user1."
   ]
  },
  {
   "cell_type": "code",
   "execution_count": 3,
   "id": "a1944ab5",
   "metadata": {},
   "outputs": [],
   "source": [
    "def choice_xo():\n",
    "    \n",
    "    global user1\n",
    "    user1 = [' ']\n",
    "    global user2\n",
    "    \n",
    "    while user1 not in ['x','o']:\n",
    "        user1 = input(\"User 1, Select x or o : \").lower()\n",
    "    \n",
    "    if user1 == 'x':\n",
    "        user2 = 'o'\n",
    "    elif user1 == 'o':\n",
    "        user2 = 'x'\n",
    "    \n",
    "    print(f\"User 2, you are {user2}\")\n",
    "    \n",
    "    return user1,user2\n",
    "\n"
   ]
  },
  {
   "cell_type": "markdown",
   "id": "a462b288",
   "metadata": {},
   "source": [
    "The Second function that asks user to select a position from range 1-9 and assigning to variable user_pos. Then 'x' or 'o' is assigned to the selected position in the list \"actual_board\" only if the position is empty.([user_pos-1] because the indexing in list start with 0.)\n",
    "\n",
    "The global variable counter_draw is used to count the number of inputs from the user. If it is equal to 9 that means the board is full.\n",
    "\n",
    "And finally displaying the game board after user selects the position."
   ]
  },
  {
   "cell_type": "code",
   "execution_count": 4,
   "id": "cc8389da",
   "metadata": {},
   "outputs": [],
   "source": [
    "def position(user_pos,user):\n",
    "       \n",
    "    while user_pos not in range(1,10) :\n",
    "    \n",
    "        user_pos = int(input(\"Select a pos from 1-9 :\"))\n",
    "        \n",
    "        if user_pos<10:\n",
    "            if actual_board[user_pos-1] == ' ' :\n",
    "                actual_board[user_pos-1] = user\n",
    "                global counter_draw\n",
    "                counter_draw = counter_draw + 1\n",
    "            else:\n",
    "                print(\"Already Taken,Try again\")\n",
    "                user_pos = 11\n",
    "        else:\n",
    "            print(\"Not a valid position, Try again\")\n",
    "            user_pos = 11\n",
    "            \n",
    "    display(actual_board)"
   ]
  },
  {
   "cell_type": "markdown",
   "id": "42b36e98",
   "metadata": {},
   "source": [
    "This function will check if there is any winner and who is.\n",
    "logic == \n",
    "\n",
    "index\n",
    "\n",
    "0 1 2  row1\n",
    "3 4 5  row2\n",
    "6 7 8  row3\n",
    "0 3 6  col1\n",
    "1 4 7  col2\n",
    "2 5 8  col3\n",
    "0 4 8  diagonal1\n",
    "2 4 6  diagonal2\n"
   ]
  },
  {
   "cell_type": "code",
   "execution_count": 5,
   "id": "6dd04809",
   "metadata": {},
   "outputs": [],
   "source": [
    "def win_check(user):\n",
    "    \n",
    "    return ((actual_board[0] == user and actual_board[1] == user and actual_board[2] == user) or \n",
    "    (actual_board[3] == user and actual_board[4] == user and actual_board[5] == user) or\n",
    "    (actual_board[6] == user and actual_board[7] == user and actual_board[8] == user) or\n",
    "    (actual_board[0] == user and actual_board[3] == user and actual_board[6] == user) or\n",
    "    (actual_board[1] == user and actual_board[4] == user and actual_board[7] == user) or\n",
    "    (actual_board[2] == user and actual_board[5] == user and actual_board[8] == user) or\n",
    "    (actual_board[0] == user and actual_board[4] == user and actual_board[8] == user) or\n",
    "    (actual_board[2] == user and actual_board[4] == user and actual_board[6] == user))"
   ]
  },
  {
   "cell_type": "markdown",
   "id": "15a50c21",
   "metadata": {},
   "source": [
    "Here comes the main code for the game Tic Tac Toe,\n",
    "\n",
    "display(dis_board) function will display board with the numbers. dis_board is a list declared earlier.\n",
    "\n",
    "1 2 3\n",
    "4 5 6\n",
    "7 8 9\n",
    "\n",
    "choice_xo() will ask user 1 to select x or o and assign other value to user 2.\n",
    "\n",
    "A variable game as False is declared for initiating while loop.\n",
    "\n",
    "Inside the while loop,\n",
    "\n",
    "position() is called for user 1 to select a position on the board.\n",
    "win_check() is called to check winner.\n",
    "if condition is true then print user 1 is winner and break to exit from while loop and game is over.\n",
    "\n",
    "if not then while loop will continue.\n",
    "\n",
    "and if counter_draw = 9 means the board is full and none is winner then game is draw.\n",
    "\n",
    "Same for user 2 inside the while loop."
   ]
  },
  {
   "cell_type": "code",
   "execution_count": 6,
   "id": "1a490b17",
   "metadata": {},
   "outputs": [
    {
     "name": "stdout",
     "output_type": "stream",
     "text": [
      "                    Tic Tac Toe                 \n",
      "1 | 2 | 3\n",
      "--|---|--\n",
      "4 | 5 | 6\n",
      "--|---|--\n",
      "7 | 8 | 9\n",
      "User 1, Select x or o : x\n",
      "User 2, you are o\n",
      "Select a pos from 1-9 :2\n",
      "  | x |  \n",
      "--|---|--\n",
      "  |   |  \n",
      "--|---|--\n",
      "  |   |  \n",
      "Select a pos from 1-9 :5\n",
      "  | x |  \n",
      "--|---|--\n",
      "  | o |  \n",
      "--|---|--\n",
      "  |   |  \n",
      "Select a pos from 1-9 :1\n",
      "x | x |  \n",
      "--|---|--\n",
      "  | o |  \n",
      "--|---|--\n",
      "  |   |  \n",
      "Select a pos from 1-9 :3\n",
      "x | x | o\n",
      "--|---|--\n",
      "  | o |  \n",
      "--|---|--\n",
      "  |   |  \n",
      "Select a pos from 1-9 :7\n",
      "x | x | o\n",
      "--|---|--\n",
      "  | o |  \n",
      "--|---|--\n",
      "x |   |  \n",
      "Select a pos from 1-9 :6\n",
      "x | x | o\n",
      "--|---|--\n",
      "  | o | o\n",
      "--|---|--\n",
      "x |   |  \n",
      "Select a pos from 1-9 :4\n",
      "x | x | o\n",
      "--|---|--\n",
      "x | o | o\n",
      "--|---|--\n",
      "x |   |  \n",
      "User 1 wins\n"
     ]
    }
   ],
   "source": [
    "print(\"                    Tic Tac Toe                 \")\n",
    "display(dis_board)\n",
    "choice_xo()\n",
    "\n",
    "game = False\n",
    "\n",
    "while game != True:\n",
    "    position(user_pos,user1)\n",
    "    if win_check(user1) == True:\n",
    "        print(\"User 1 wins\")\n",
    "        game = True\n",
    "        break\n",
    "    elif (win_check(user1) != True) and counter_draw == 9:\n",
    "        print(\"It is a Draw\")\n",
    "        game = True\n",
    "        break\n",
    "    position(user_pos,user2)\n",
    "    if win_check(user2) == True:\n",
    "        print(\"User 2 wins\")\n",
    "        game = True\n",
    "        break\n",
    "    elif (win_check(user2) != True) and counter_draw == 9:\n",
    "        print(\"It is a Draw\")\n",
    "        game = True\n",
    "        break\n",
    "    else:\n",
    "        game = False"
   ]
  },
  {
   "cell_type": "code",
   "execution_count": null,
   "id": "2b601a02",
   "metadata": {},
   "outputs": [],
   "source": []
  },
  {
   "cell_type": "code",
   "execution_count": null,
   "id": "18196378",
   "metadata": {},
   "outputs": [],
   "source": []
  }
 ],
 "metadata": {
  "kernelspec": {
   "display_name": "Python 3 (ipykernel)",
   "language": "python",
   "name": "python3"
  },
  "language_info": {
   "codemirror_mode": {
    "name": "ipython",
    "version": 3
   },
   "file_extension": ".py",
   "mimetype": "text/x-python",
   "name": "python",
   "nbconvert_exporter": "python",
   "pygments_lexer": "ipython3",
   "version": "3.9.12"
  }
 },
 "nbformat": 4,
 "nbformat_minor": 5
}
