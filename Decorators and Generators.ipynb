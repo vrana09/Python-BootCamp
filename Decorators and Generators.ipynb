{
 "cells": [
  {
   "cell_type": "markdown",
   "id": "2a6d714d",
   "metadata": {},
   "source": [
    "***Decorators - works as a switch on/off for an extra functionality to a function.\n",
    "<br>@some_decorator \n",
    "<br>def fun():***"
   ]
  },
  {
   "cell_type": "code",
   "execution_count": 2,
   "id": "4a5df151",
   "metadata": {},
   "outputs": [],
   "source": [
    "def cool():\n",
    "    \n",
    "    def super_cool():\n",
    "        return \"I am super cool!\"\n",
    "    \n",
    "    return \"Cool!\""
   ]
  },
  {
   "cell_type": "code",
   "execution_count": 3,
   "id": "502275b7",
   "metadata": {},
   "outputs": [
    {
     "data": {
      "text/plain": [
       "'Cool!'"
      ]
     },
     "execution_count": 3,
     "metadata": {},
     "output_type": "execute_result"
    }
   ],
   "source": [
    "cool()"
   ]
  },
  {
   "cell_type": "code",
   "execution_count": 4,
   "id": "197875a8",
   "metadata": {},
   "outputs": [],
   "source": [
    "test = cool()"
   ]
  },
  {
   "cell_type": "code",
   "execution_count": 5,
   "id": "cfbf058d",
   "metadata": {},
   "outputs": [
    {
     "data": {
      "text/plain": [
       "'Cool!'"
      ]
     },
     "execution_count": 5,
     "metadata": {},
     "output_type": "execute_result"
    }
   ],
   "source": [
    "test"
   ]
  },
  {
   "cell_type": "code",
   "execution_count": 6,
   "id": "1ffe2dda",
   "metadata": {},
   "outputs": [],
   "source": [
    "test1 = cool"
   ]
  },
  {
   "cell_type": "code",
   "execution_count": 8,
   "id": "8cce1ada",
   "metadata": {},
   "outputs": [
    {
     "data": {
      "text/plain": [
       "'Cool!'"
      ]
     },
     "execution_count": 8,
     "metadata": {},
     "output_type": "execute_result"
    }
   ],
   "source": [
    "test1()"
   ]
  },
  {
   "cell_type": "markdown",
   "id": "76ba24ec",
   "metadata": {},
   "source": [
    "***Returning a function in a function***"
   ]
  },
  {
   "cell_type": "code",
   "execution_count": 9,
   "id": "b5d9a571",
   "metadata": {},
   "outputs": [],
   "source": [
    "def cool():\n",
    "    \n",
    "    def super_cool():\n",
    "        return \"I am super cool!\"\n",
    "    \n",
    "    return super_cool"
   ]
  },
  {
   "cell_type": "code",
   "execution_count": 10,
   "id": "4b0251ae",
   "metadata": {},
   "outputs": [],
   "source": [
    "test2 = cool()"
   ]
  },
  {
   "cell_type": "code",
   "execution_count": 11,
   "id": "3d4481c8",
   "metadata": {},
   "outputs": [
    {
     "data": {
      "text/plain": [
       "<function __main__.cool.<locals>.super_cool()>"
      ]
     },
     "execution_count": 11,
     "metadata": {},
     "output_type": "execute_result"
    }
   ],
   "source": [
    "test2"
   ]
  },
  {
   "cell_type": "code",
   "execution_count": 12,
   "id": "5feaaafd",
   "metadata": {},
   "outputs": [
    {
     "data": {
      "text/plain": [
       "'I am super cool!'"
      ]
     },
     "execution_count": 12,
     "metadata": {},
     "output_type": "execute_result"
    }
   ],
   "source": [
    "test2()"
   ]
  },
  {
   "cell_type": "markdown",
   "id": "5b6194d4",
   "metadata": {},
   "source": [
    "***Passing a function as an argument to other function***"
   ]
  },
  {
   "cell_type": "code",
   "execution_count": 13,
   "id": "886ac428",
   "metadata": {},
   "outputs": [],
   "source": [
    "def name(name = 'Viraj'):\n",
    "    return f\"Hello {name}!\""
   ]
  },
  {
   "cell_type": "code",
   "execution_count": 14,
   "id": "d4bf2266",
   "metadata": {},
   "outputs": [],
   "source": [
    "def new_func(func_arg):\n",
    "    \n",
    "    print(\"Hey, This is a new function.\")\n",
    "    print(func_arg())"
   ]
  },
  {
   "cell_type": "code",
   "execution_count": 15,
   "id": "645ba73c",
   "metadata": {},
   "outputs": [
    {
     "name": "stdout",
     "output_type": "stream",
     "text": [
      "Hey, This is a new function.\n",
      "Hello Viraj!\n"
     ]
    }
   ],
   "source": [
    "new_func(name)"
   ]
  },
  {
   "cell_type": "code",
   "execution_count": 16,
   "id": "6f288dc4",
   "metadata": {},
   "outputs": [],
   "source": [
    "def decor_func():\n",
    "    return \"add my functionality to orginal function\""
   ]
  },
  {
   "cell_type": "code",
   "execution_count": 17,
   "id": "5eac39dd",
   "metadata": {},
   "outputs": [],
   "source": [
    "def org_func(func):\n",
    "    \n",
    "    def test_decoartor():\n",
    "        print(\"***Original code***\")\n",
    "        print(func())\n",
    "        print(\"***Original code***\")\n",
    "        \n",
    "    return test_decoartor()"
   ]
  },
  {
   "cell_type": "code",
   "execution_count": 18,
   "id": "44134e26",
   "metadata": {},
   "outputs": [
    {
     "name": "stdout",
     "output_type": "stream",
     "text": [
      "***Original code***\n",
      "add my functionality to orginal function\n",
      "***Original code***\n"
     ]
    }
   ],
   "source": [
    "org_func(decor_func)"
   ]
  },
  {
   "cell_type": "markdown",
   "id": "c74761f9",
   "metadata": {},
   "source": [
    "***To use Decorator, @ is used to func where it needs to be added.\n",
    "<br>Whatever functionnality need to to be added***"
   ]
  },
  {
   "cell_type": "code",
   "execution_count": 23,
   "id": "e45b3652",
   "metadata": {},
   "outputs": [
    {
     "name": "stdout",
     "output_type": "stream",
     "text": [
      "***Original code***\n",
      "add my functionality to orginal function\n",
      "***Original code***\n"
     ]
    }
   ],
   "source": [
    "@org_func\n",
    "def decor_func():\n",
    "    return \"add my functionality to orginal function\"\n",
    "    "
   ]
  },
  {
   "cell_type": "markdown",
   "id": "f7caf677",
   "metadata": {},
   "source": [
    "***Generators in python are used where memory is a concern like huge data sets and \n",
    "<br>\"yield\" keyword is used instead of return like in normal function. \n",
    "<br>genrator does not hold everything into the memory instead it holds previous result and depending on function, it gives next result.***"
   ]
  },
  {
   "cell_type": "code",
   "execution_count": 32,
   "id": "2b677fe8",
   "metadata": {},
   "outputs": [],
   "source": [
    "def func_gen(n):\n",
    "    \n",
    "    for x in range(n):\n",
    "        yield x\n",
    "        print(\"hi\")"
   ]
  },
  {
   "cell_type": "code",
   "execution_count": 33,
   "id": "04f75260",
   "metadata": {},
   "outputs": [
    {
     "name": "stdout",
     "output_type": "stream",
     "text": [
      "0\n",
      "hi\n",
      "1\n",
      "hi\n",
      "2\n",
      "hi\n",
      "3\n",
      "hi\n",
      "4\n",
      "hi\n"
     ]
    }
   ],
   "source": [
    "for x in func_gen(5):\n",
    "    print(x)"
   ]
  },
  {
   "cell_type": "code",
   "execution_count": 36,
   "id": "d7da2f9a",
   "metadata": {},
   "outputs": [],
   "source": [
    "def fibon_func(n):\n",
    "    \n",
    "    a=0\n",
    "    b=1\n",
    "    for x in range(n):\n",
    "        yield a\n",
    "        a,b = b,b+a"
   ]
  },
  {
   "cell_type": "code",
   "execution_count": 38,
   "id": "fafb62cc",
   "metadata": {},
   "outputs": [
    {
     "name": "stdout",
     "output_type": "stream",
     "text": [
      "0\n",
      "1\n",
      "1\n",
      "2\n",
      "3\n",
      "5\n",
      "8\n",
      "13\n",
      "21\n",
      "34\n"
     ]
    }
   ],
   "source": [
    "for number in fibon_func(10):\n",
    "    print(number)"
   ]
  },
  {
   "cell_type": "markdown",
   "id": "3ec355c4",
   "metadata": {},
   "source": [
    "***Understanding 'Next' and 'Iterate' will make more sense on how the generators are memory efficient.***  "
   ]
  },
  {
   "cell_type": "code",
   "execution_count": 46,
   "id": "0d1ac8c2",
   "metadata": {},
   "outputs": [],
   "source": [
    "#Using the above fibon_func only\n",
    "n = fibon_func(3)"
   ]
  },
  {
   "cell_type": "code",
   "execution_count": 47,
   "id": "cc7cfc38",
   "metadata": {},
   "outputs": [
    {
     "name": "stdout",
     "output_type": "stream",
     "text": [
      "0\n"
     ]
    }
   ],
   "source": [
    "print(next(n))"
   ]
  },
  {
   "cell_type": "code",
   "execution_count": 48,
   "id": "148c0161",
   "metadata": {},
   "outputs": [
    {
     "name": "stdout",
     "output_type": "stream",
     "text": [
      "1\n"
     ]
    }
   ],
   "source": [
    "print(next(n))"
   ]
  },
  {
   "cell_type": "code",
   "execution_count": 49,
   "id": "19d6a92d",
   "metadata": {},
   "outputs": [
    {
     "name": "stdout",
     "output_type": "stream",
     "text": [
      "1\n"
     ]
    }
   ],
   "source": [
    "print(next(n))"
   ]
  },
  {
   "cell_type": "code",
   "execution_count": 50,
   "id": "580c1f4b",
   "metadata": {},
   "outputs": [
    {
     "ename": "StopIteration",
     "evalue": "",
     "output_type": "error",
     "traceback": [
      "\u001b[0;31m---------------------------------------------------------------------------\u001b[0m",
      "\u001b[0;31mStopIteration\u001b[0m                             Traceback (most recent call last)",
      "Input \u001b[0;32mIn [50]\u001b[0m, in \u001b[0;36m<cell line: 1>\u001b[0;34m()\u001b[0m\n\u001b[0;32m----> 1\u001b[0m \u001b[38;5;28mprint\u001b[39m(\u001b[38;5;28;43mnext\u001b[39;49m\u001b[43m(\u001b[49m\u001b[43mn\u001b[49m\u001b[43m)\u001b[49m)\n",
      "\u001b[0;31mStopIteration\u001b[0m: "
     ]
    }
   ],
   "source": [
    "print(next(n))"
   ]
  },
  {
   "cell_type": "code",
   "execution_count": 51,
   "id": "6b46dfcf",
   "metadata": {},
   "outputs": [],
   "source": [
    "#It gives StopIteration error which means all the values have yielded."
   ]
  },
  {
   "cell_type": "code",
   "execution_count": 52,
   "id": "3715ebbb",
   "metadata": {},
   "outputs": [],
   "source": [
    "s = 'Viraj'"
   ]
  },
  {
   "cell_type": "code",
   "execution_count": 53,
   "id": "aaab9e34",
   "metadata": {},
   "outputs": [
    {
     "ename": "TypeError",
     "evalue": "'str' object is not an iterator",
     "output_type": "error",
     "traceback": [
      "\u001b[0;31m---------------------------------------------------------------------------\u001b[0m",
      "\u001b[0;31mTypeError\u001b[0m                                 Traceback (most recent call last)",
      "Input \u001b[0;32mIn [53]\u001b[0m, in \u001b[0;36m<cell line: 1>\u001b[0;34m()\u001b[0m\n\u001b[0;32m----> 1\u001b[0m \u001b[38;5;28;43mnext\u001b[39;49m\u001b[43m(\u001b[49m\u001b[43ms\u001b[49m\u001b[43m)\u001b[49m\n",
      "\u001b[0;31mTypeError\u001b[0m: 'str' object is not an iterator"
     ]
    }
   ],
   "source": [
    "next(s)"
   ]
  },
  {
   "cell_type": "code",
   "execution_count": 56,
   "id": "6e365383",
   "metadata": {},
   "outputs": [],
   "source": [
    "s_iter = iter(s)"
   ]
  },
  {
   "cell_type": "code",
   "execution_count": 57,
   "id": "54144e47",
   "metadata": {},
   "outputs": [
    {
     "data": {
      "text/plain": [
       "'V'"
      ]
     },
     "execution_count": 57,
     "metadata": {},
     "output_type": "execute_result"
    }
   ],
   "source": [
    "next(s_iter)"
   ]
  },
  {
   "cell_type": "code",
   "execution_count": null,
   "id": "c2d81912",
   "metadata": {},
   "outputs": [],
   "source": []
  }
 ],
 "metadata": {
  "kernelspec": {
   "display_name": "Python 3 (ipykernel)",
   "language": "python",
   "name": "python3"
  },
  "language_info": {
   "codemirror_mode": {
    "name": "ipython",
    "version": 3
   },
   "file_extension": ".py",
   "mimetype": "text/x-python",
   "name": "python",
   "nbconvert_exporter": "python",
   "pygments_lexer": "ipython3",
   "version": "3.9.12"
  }
 },
 "nbformat": 4,
 "nbformat_minor": 5
}
